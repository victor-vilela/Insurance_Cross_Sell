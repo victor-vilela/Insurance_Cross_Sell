{
 "cells": [
  {
   "cell_type": "markdown",
   "id": "8c2d7a6f",
   "metadata": {},
   "source": [
    "# 0.0 IMPORTS"
   ]
  },
  {
   "cell_type": "code",
   "execution_count": 1,
   "id": "53076e98",
   "metadata": {
    "ExecuteTime": {
     "end_time": "2022-12-27T08:35:12.955602Z",
     "start_time": "2022-12-27T08:35:06.442943Z"
    }
   },
   "outputs": [],
   "source": [
    "import psycopg2 as pg\n",
    "import pandas.io.sql as psql\n",
    "from IPython.display import Image\n",
    "\n",
    "import pandas as pd\n",
    "import numpy as np\n",
    "import matplotlib.pyplot as plt\n",
    "import seaborn as sns\n",
    "import scikitplot as skplt\n",
    "import pickle\n",
    "import json\n",
    "\n",
    "from flask import Flask, request, Response\n",
    "# from health_insurance import HealthInsurance\n",
    "\n",
    "from sklearn import preprocessing as pp\n",
    "from sklearn import model_selection as ms\n",
    "from sklearn import ensemble as en\n",
    "from sklearn import linear_model as lm\n",
    "from sklearn import neighbors as nh\n",
    "from sklearn import linear_model as lm"
   ]
  },
  {
   "cell_type": "markdown",
   "id": "83c581ba",
   "metadata": {},
   "source": [
    "## 0.2 Load Data"
   ]
  },
  {
   "cell_type": "code",
   "execution_count": 2,
   "id": "054e0ead",
   "metadata": {
    "ExecuteTime": {
     "end_time": "2022-12-27T08:35:12.961296Z",
     "start_time": "2022-12-27T08:35:12.958105Z"
    }
   },
   "outputs": [],
   "source": [
    "# Credentials\n",
    "\n",
    "# host = 'url-base-aws'\n",
    "# port = port\n",
    "# database = 'comunidadedsdb'\n",
    "# user = '***'\n",
    "# pwd = '***'"
   ]
  },
  {
   "cell_type": "code",
   "execution_count": 3,
   "id": "6705c05d",
   "metadata": {
    "ExecuteTime": {
     "end_time": "2022-12-27T08:35:13.025431Z",
     "start_time": "2022-12-27T08:35:12.963116Z"
    }
   },
   "outputs": [],
   "source": [
    "# conn = pg.connect(user=user, \n",
    "#                   password=pwd, \n",
    "#                   host=host, \n",
    "#                   port=port, \n",
    "#                   database=database)"
   ]
  },
  {
   "cell_type": "code",
   "execution_count": 4,
   "id": "0f44c8e5",
   "metadata": {
    "ExecuteTime": {
     "end_time": "2022-12-27T08:35:13.135873Z",
     "start_time": "2022-12-27T08:35:13.030740Z"
    },
    "scrolled": true
   },
   "outputs": [],
   "source": [
    "# query_vehicle = \"\"\"\n",
    "#     SELECT * \n",
    "#     FROM pa004.vehicle v\n",
    "# \"\"\"\n",
    "\n",
    "# query_insurance = \"\"\"\n",
    "#     SELECT * \n",
    "#     FROM pa004.insurance i\n",
    "# \"\"\"\n",
    "\n",
    "# query_users = \"\"\"\n",
    "#     SELECT * \n",
    "#     FROM pa004.users u\n",
    "# \"\"\"\n",
    "\n",
    "# df_vehicle = psql.read_sql(query_vehicle, conn)\n",
    "# df_insurance = psql.read_sql(query_insurance, conn)\n",
    "# df_users = psql.read_sql(query_users, conn)\n",
    "\n",
    "# df_aux = pd.merge( df_users, df_insurance, how='left', on='id')\n",
    "# df_raw = pd.merge( df_aux, df_vehicle, how='left', on='id')\n",
    "# df_raw.to_csv('datasets/train_insurance.csv', index=False)"
   ]
  },
  {
   "cell_type": "code",
   "execution_count": 5,
   "id": "0e6d310a",
   "metadata": {
    "ExecuteTime": {
     "end_time": "2022-12-27T08:35:14.087720Z",
     "start_time": "2022-12-27T08:35:13.139734Z"
    }
   },
   "outputs": [
    {
     "data": {
      "text/html": [
       "<div>\n",
       "<style scoped>\n",
       "    .dataframe tbody tr th:only-of-type {\n",
       "        vertical-align: middle;\n",
       "    }\n",
       "\n",
       "    .dataframe tbody tr th {\n",
       "        vertical-align: top;\n",
       "    }\n",
       "\n",
       "    .dataframe thead th {\n",
       "        text-align: right;\n",
       "    }\n",
       "</style>\n",
       "<table border=\"1\" class=\"dataframe\">\n",
       "  <thead>\n",
       "    <tr style=\"text-align: right;\">\n",
       "      <th></th>\n",
       "      <th>id</th>\n",
       "      <th>gender</th>\n",
       "      <th>age</th>\n",
       "      <th>region_code</th>\n",
       "      <th>policy_sales_channel</th>\n",
       "      <th>previously_insured</th>\n",
       "      <th>annual_premium</th>\n",
       "      <th>vintage</th>\n",
       "      <th>response</th>\n",
       "      <th>driving_license</th>\n",
       "      <th>vehicle_age</th>\n",
       "      <th>vehicle_damage</th>\n",
       "    </tr>\n",
       "  </thead>\n",
       "  <tbody>\n",
       "    <tr>\n",
       "      <th>0</th>\n",
       "      <td>1</td>\n",
       "      <td>Male</td>\n",
       "      <td>44</td>\n",
       "      <td>28.0</td>\n",
       "      <td>26.0</td>\n",
       "      <td>0</td>\n",
       "      <td>40454.0</td>\n",
       "      <td>217</td>\n",
       "      <td>1</td>\n",
       "      <td>1</td>\n",
       "      <td>&gt; 2 Years</td>\n",
       "      <td>Yes</td>\n",
       "    </tr>\n",
       "    <tr>\n",
       "      <th>1</th>\n",
       "      <td>2</td>\n",
       "      <td>Male</td>\n",
       "      <td>76</td>\n",
       "      <td>3.0</td>\n",
       "      <td>26.0</td>\n",
       "      <td>0</td>\n",
       "      <td>33536.0</td>\n",
       "      <td>183</td>\n",
       "      <td>0</td>\n",
       "      <td>1</td>\n",
       "      <td>1-2 Year</td>\n",
       "      <td>No</td>\n",
       "    </tr>\n",
       "    <tr>\n",
       "      <th>2</th>\n",
       "      <td>3</td>\n",
       "      <td>Male</td>\n",
       "      <td>47</td>\n",
       "      <td>28.0</td>\n",
       "      <td>26.0</td>\n",
       "      <td>0</td>\n",
       "      <td>38294.0</td>\n",
       "      <td>27</td>\n",
       "      <td>1</td>\n",
       "      <td>1</td>\n",
       "      <td>&gt; 2 Years</td>\n",
       "      <td>Yes</td>\n",
       "    </tr>\n",
       "    <tr>\n",
       "      <th>3</th>\n",
       "      <td>4</td>\n",
       "      <td>Male</td>\n",
       "      <td>21</td>\n",
       "      <td>11.0</td>\n",
       "      <td>152.0</td>\n",
       "      <td>1</td>\n",
       "      <td>28619.0</td>\n",
       "      <td>203</td>\n",
       "      <td>0</td>\n",
       "      <td>1</td>\n",
       "      <td>&lt; 1 Year</td>\n",
       "      <td>No</td>\n",
       "    </tr>\n",
       "    <tr>\n",
       "      <th>4</th>\n",
       "      <td>5</td>\n",
       "      <td>Female</td>\n",
       "      <td>29</td>\n",
       "      <td>41.0</td>\n",
       "      <td>152.0</td>\n",
       "      <td>1</td>\n",
       "      <td>27496.0</td>\n",
       "      <td>39</td>\n",
       "      <td>0</td>\n",
       "      <td>1</td>\n",
       "      <td>&lt; 1 Year</td>\n",
       "      <td>No</td>\n",
       "    </tr>\n",
       "  </tbody>\n",
       "</table>\n",
       "</div>"
      ],
      "text/plain": [
       "   id  gender  age  region_code  policy_sales_channel  previously_insured  \\\n",
       "0   1    Male   44         28.0                  26.0                   0   \n",
       "1   2    Male   76          3.0                  26.0                   0   \n",
       "2   3    Male   47         28.0                  26.0                   0   \n",
       "3   4    Male   21         11.0                 152.0                   1   \n",
       "4   5  Female   29         41.0                 152.0                   1   \n",
       "\n",
       "   annual_premium  vintage  response  driving_license vehicle_age  \\\n",
       "0         40454.0      217         1                1   > 2 Years   \n",
       "1         33536.0      183         0                1    1-2 Year   \n",
       "2         38294.0       27         1                1   > 2 Years   \n",
       "3         28619.0      203         0                1    < 1 Year   \n",
       "4         27496.0       39         0                1    < 1 Year   \n",
       "\n",
       "  vehicle_damage  \n",
       "0            Yes  \n",
       "1             No  \n",
       "2            Yes  \n",
       "3             No  \n",
       "4             No  "
      ]
     },
     "execution_count": 5,
     "metadata": {},
     "output_type": "execute_result"
    }
   ],
   "source": [
    "df_raw = pd.read_csv('../data/raw/db_raw.csv')\n",
    "df_raw.head()"
   ]
  },
  {
   "cell_type": "markdown",
   "id": "266ecd99",
   "metadata": {},
   "source": [
    "# 1.0 DATA DESCRIPTIONS"
   ]
  },
  {
   "cell_type": "code",
   "execution_count": 6,
   "id": "266707cc",
   "metadata": {
    "ExecuteTime": {
     "end_time": "2022-12-27T08:35:14.098435Z",
     "start_time": "2022-12-27T08:35:14.089505Z"
    }
   },
   "outputs": [],
   "source": [
    "df1 = df_raw.copy()"
   ]
  },
  {
   "cell_type": "markdown",
   "id": "0a56792d",
   "metadata": {},
   "source": [
    "## 1.1 DATA DIMENSIONS"
   ]
  },
  {
   "cell_type": "code",
   "execution_count": 7,
   "id": "6e44bb5e",
   "metadata": {
    "ExecuteTime": {
     "end_time": "2022-12-27T08:35:14.159819Z",
     "start_time": "2022-12-27T08:35:14.103059Z"
    }
   },
   "outputs": [
    {
     "name": "stdout",
     "output_type": "stream",
     "text": [
      "Number of rows: 381109\n",
      "Number of columns: 12\n"
     ]
    }
   ],
   "source": [
    "print('Number of rows: {}'.format(df1.shape[0]))\n",
    "print('Number of columns: {}'.format(df1.shape[1]))"
   ]
  },
  {
   "cell_type": "markdown",
   "id": "c7a8430b",
   "metadata": {
    "ExecuteTime": {
     "end_time": "2022-10-26T11:02:54.172205Z",
     "start_time": "2022-10-26T11:02:54.167866Z"
    }
   },
   "source": [
    "## 1.2 DATA TYPES"
   ]
  },
  {
   "cell_type": "code",
   "execution_count": 8,
   "id": "611219b1",
   "metadata": {
    "ExecuteTime": {
     "end_time": "2022-12-27T08:35:14.454661Z",
     "start_time": "2022-12-27T08:35:14.162548Z"
    }
   },
   "outputs": [
    {
     "name": "stdout",
     "output_type": "stream",
     "text": [
      "<class 'pandas.core.frame.DataFrame'>\n",
      "RangeIndex: 381109 entries, 0 to 381108\n",
      "Data columns (total 12 columns):\n",
      " #   Column                Non-Null Count   Dtype  \n",
      "---  ------                --------------   -----  \n",
      " 0   id                    381109 non-null  int64  \n",
      " 1   gender                381109 non-null  object \n",
      " 2   age                   381109 non-null  int64  \n",
      " 3   region_code           381109 non-null  float64\n",
      " 4   policy_sales_channel  381109 non-null  float64\n",
      " 5   previously_insured    381109 non-null  int64  \n",
      " 6   annual_premium        381109 non-null  float64\n",
      " 7   vintage               381109 non-null  int64  \n",
      " 8   response              381109 non-null  int64  \n",
      " 9   driving_license       381109 non-null  int64  \n",
      " 10  vehicle_age           381109 non-null  object \n",
      " 11  vehicle_damage        381109 non-null  object \n",
      "dtypes: float64(3), int64(6), object(3)\n",
      "memory usage: 34.9+ MB\n"
     ]
    }
   ],
   "source": [
    "df1.info()"
   ]
  },
  {
   "cell_type": "markdown",
   "id": "64e6e659",
   "metadata": {},
   "source": [
    "## 1.3 CHECK TYPES"
   ]
  },
  {
   "cell_type": "code",
   "execution_count": 9,
   "id": "4eddb00b",
   "metadata": {
    "ExecuteTime": {
     "end_time": "2022-12-27T08:35:14.574889Z",
     "start_time": "2022-12-27T08:35:14.456843Z"
    }
   },
   "outputs": [],
   "source": [
    "df1['vehicle_damage'] = df1['vehicle_damage'].apply( lambda x: 1 if x=='Yes' else 0)"
   ]
  },
  {
   "cell_type": "markdown",
   "id": "8dbf4609",
   "metadata": {},
   "source": [
    "## 1.4 CHECK NA"
   ]
  },
  {
   "cell_type": "code",
   "execution_count": 10,
   "id": "86f55f87",
   "metadata": {
    "ExecuteTime": {
     "end_time": "2022-12-27T08:35:14.667156Z",
     "start_time": "2022-12-27T08:35:14.579063Z"
    }
   },
   "outputs": [
    {
     "data": {
      "text/plain": [
       "id                      0\n",
       "gender                  0\n",
       "age                     0\n",
       "region_code             0\n",
       "policy_sales_channel    0\n",
       "previously_insured      0\n",
       "annual_premium          0\n",
       "vintage                 0\n",
       "response                0\n",
       "driving_license         0\n",
       "vehicle_age             0\n",
       "vehicle_damage          0\n",
       "dtype: int64"
      ]
     },
     "execution_count": 10,
     "metadata": {},
     "output_type": "execute_result"
    }
   ],
   "source": [
    "df1.isna().sum()"
   ]
  },
  {
   "cell_type": "markdown",
   "id": "600bdf13",
   "metadata": {},
   "source": [
    "## 1.5 DESCRIPTIVE STATISTICS"
   ]
  },
  {
   "cell_type": "markdown",
   "id": "c62846fb",
   "metadata": {},
   "source": [
    "### 1.5.1 Numerical Attributes"
   ]
  },
  {
   "cell_type": "code",
   "execution_count": 11,
   "id": "fe9effb4",
   "metadata": {
    "ExecuteTime": {
     "end_time": "2022-12-27T08:35:14.686690Z",
     "start_time": "2022-12-27T08:35:14.668513Z"
    }
   },
   "outputs": [],
   "source": [
    "num_attr = df1.select_dtypes(include=['int64', 'float64'])\n",
    "cat_attr = df1.select_dtypes(exclude=['int64', 'float64'])"
   ]
  },
  {
   "cell_type": "code",
   "execution_count": 12,
   "id": "77f3b6c4",
   "metadata": {
    "ExecuteTime": {
     "end_time": "2022-12-27T08:35:15.447954Z",
     "start_time": "2022-12-27T08:35:14.688753Z"
    }
   },
   "outputs": [
    {
     "data": {
      "text/html": [
       "<div>\n",
       "<style scoped>\n",
       "    .dataframe tbody tr th:only-of-type {\n",
       "        vertical-align: middle;\n",
       "    }\n",
       "\n",
       "    .dataframe tbody tr th {\n",
       "        vertical-align: top;\n",
       "    }\n",
       "\n",
       "    .dataframe thead th {\n",
       "        text-align: right;\n",
       "    }\n",
       "</style>\n",
       "<table border=\"1\" class=\"dataframe\">\n",
       "  <thead>\n",
       "    <tr style=\"text-align: right;\">\n",
       "      <th></th>\n",
       "      <th>attributes</th>\n",
       "      <th>min</th>\n",
       "      <th>max</th>\n",
       "      <th>range</th>\n",
       "      <th>mean</th>\n",
       "      <th>median</th>\n",
       "      <th>std</th>\n",
       "      <th>skew</th>\n",
       "      <th>kurtosis</th>\n",
       "    </tr>\n",
       "  </thead>\n",
       "  <tbody>\n",
       "    <tr>\n",
       "      <th>0</th>\n",
       "      <td>id</td>\n",
       "      <td>1.0</td>\n",
       "      <td>381109.0</td>\n",
       "      <td>381108.0</td>\n",
       "      <td>190555.000000</td>\n",
       "      <td>190555.0</td>\n",
       "      <td>110016.691870</td>\n",
       "      <td>9.443274e-16</td>\n",
       "      <td>-1.200000</td>\n",
       "    </tr>\n",
       "    <tr>\n",
       "      <th>1</th>\n",
       "      <td>age</td>\n",
       "      <td>20.0</td>\n",
       "      <td>85.0</td>\n",
       "      <td>65.0</td>\n",
       "      <td>38.822584</td>\n",
       "      <td>36.0</td>\n",
       "      <td>15.511591</td>\n",
       "      <td>6.725390e-01</td>\n",
       "      <td>-0.565655</td>\n",
       "    </tr>\n",
       "    <tr>\n",
       "      <th>2</th>\n",
       "      <td>region_code</td>\n",
       "      <td>0.0</td>\n",
       "      <td>52.0</td>\n",
       "      <td>52.0</td>\n",
       "      <td>26.388807</td>\n",
       "      <td>28.0</td>\n",
       "      <td>13.229871</td>\n",
       "      <td>-1.152664e-01</td>\n",
       "      <td>-0.867857</td>\n",
       "    </tr>\n",
       "    <tr>\n",
       "      <th>3</th>\n",
       "      <td>policy_sales_channel</td>\n",
       "      <td>1.0</td>\n",
       "      <td>163.0</td>\n",
       "      <td>162.0</td>\n",
       "      <td>112.034295</td>\n",
       "      <td>133.0</td>\n",
       "      <td>54.203924</td>\n",
       "      <td>-9.000081e-01</td>\n",
       "      <td>-0.970810</td>\n",
       "    </tr>\n",
       "    <tr>\n",
       "      <th>4</th>\n",
       "      <td>previously_insured</td>\n",
       "      <td>0.0</td>\n",
       "      <td>1.0</td>\n",
       "      <td>1.0</td>\n",
       "      <td>0.458210</td>\n",
       "      <td>0.0</td>\n",
       "      <td>0.498251</td>\n",
       "      <td>1.677471e-01</td>\n",
       "      <td>-1.971871</td>\n",
       "    </tr>\n",
       "    <tr>\n",
       "      <th>5</th>\n",
       "      <td>annual_premium</td>\n",
       "      <td>2630.0</td>\n",
       "      <td>540165.0</td>\n",
       "      <td>537535.0</td>\n",
       "      <td>30564.389581</td>\n",
       "      <td>31669.0</td>\n",
       "      <td>17213.132474</td>\n",
       "      <td>1.766087e+00</td>\n",
       "      <td>34.004569</td>\n",
       "    </tr>\n",
       "    <tr>\n",
       "      <th>6</th>\n",
       "      <td>vintage</td>\n",
       "      <td>10.0</td>\n",
       "      <td>299.0</td>\n",
       "      <td>289.0</td>\n",
       "      <td>154.347397</td>\n",
       "      <td>154.0</td>\n",
       "      <td>83.671194</td>\n",
       "      <td>3.029517e-03</td>\n",
       "      <td>-1.200688</td>\n",
       "    </tr>\n",
       "    <tr>\n",
       "      <th>7</th>\n",
       "      <td>response</td>\n",
       "      <td>0.0</td>\n",
       "      <td>1.0</td>\n",
       "      <td>1.0</td>\n",
       "      <td>0.122563</td>\n",
       "      <td>0.0</td>\n",
       "      <td>0.327935</td>\n",
       "      <td>2.301906e+00</td>\n",
       "      <td>3.298788</td>\n",
       "    </tr>\n",
       "    <tr>\n",
       "      <th>8</th>\n",
       "      <td>driving_license</td>\n",
       "      <td>0.0</td>\n",
       "      <td>1.0</td>\n",
       "      <td>1.0</td>\n",
       "      <td>0.997869</td>\n",
       "      <td>1.0</td>\n",
       "      <td>0.046109</td>\n",
       "      <td>-2.159518e+01</td>\n",
       "      <td>464.354302</td>\n",
       "    </tr>\n",
       "    <tr>\n",
       "      <th>9</th>\n",
       "      <td>vehicle_damage</td>\n",
       "      <td>0.0</td>\n",
       "      <td>1.0</td>\n",
       "      <td>1.0</td>\n",
       "      <td>0.504877</td>\n",
       "      <td>1.0</td>\n",
       "      <td>0.499976</td>\n",
       "      <td>-1.950724e-02</td>\n",
       "      <td>-1.999630</td>\n",
       "    </tr>\n",
       "  </tbody>\n",
       "</table>\n",
       "</div>"
      ],
      "text/plain": [
       "             attributes     min       max     range           mean    median  \\\n",
       "0                    id     1.0  381109.0  381108.0  190555.000000  190555.0   \n",
       "1                   age    20.0      85.0      65.0      38.822584      36.0   \n",
       "2           region_code     0.0      52.0      52.0      26.388807      28.0   \n",
       "3  policy_sales_channel     1.0     163.0     162.0     112.034295     133.0   \n",
       "4    previously_insured     0.0       1.0       1.0       0.458210       0.0   \n",
       "5        annual_premium  2630.0  540165.0  537535.0   30564.389581   31669.0   \n",
       "6               vintage    10.0     299.0     289.0     154.347397     154.0   \n",
       "7              response     0.0       1.0       1.0       0.122563       0.0   \n",
       "8       driving_license     0.0       1.0       1.0       0.997869       1.0   \n",
       "9        vehicle_damage     0.0       1.0       1.0       0.504877       1.0   \n",
       "\n",
       "             std          skew    kurtosis  \n",
       "0  110016.691870  9.443274e-16   -1.200000  \n",
       "1      15.511591  6.725390e-01   -0.565655  \n",
       "2      13.229871 -1.152664e-01   -0.867857  \n",
       "3      54.203924 -9.000081e-01   -0.970810  \n",
       "4       0.498251  1.677471e-01   -1.971871  \n",
       "5   17213.132474  1.766087e+00   34.004569  \n",
       "6      83.671194  3.029517e-03   -1.200688  \n",
       "7       0.327935  2.301906e+00    3.298788  \n",
       "8       0.046109 -2.159518e+01  464.354302  \n",
       "9       0.499976 -1.950724e-02   -1.999630  "
      ]
     },
     "execution_count": 12,
     "metadata": {},
     "output_type": "execute_result"
    }
   ],
   "source": [
    "# Central Tendency - Mean, Median\n",
    "ct1 = pd.DataFrame( num_attr.apply( np.mean ) ).T\n",
    "ct2 = pd.DataFrame( num_attr.apply( np.median ) ).T\n",
    "\n",
    "# Dispersion - std, min, max, range, skew, kurtosis\n",
    "d1 = pd.DataFrame( num_attr.apply( np.std ) ).T\n",
    "d2 = pd.DataFrame( num_attr.apply( min ) ).T\n",
    "d3 = pd.DataFrame( num_attr.apply( max ) ).T\n",
    "d4 = pd.DataFrame( num_attr.apply( lambda x: x.max() - x.min() ) ).T\n",
    "d5 = pd.DataFrame( num_attr.apply( lambda x: x.skew() ) ).T\n",
    "d6 = pd.DataFrame( num_attr.apply( lambda x: x.kurtosis() ) ).T\n",
    "\n",
    "# Concat\n",
    "m = pd.concat( [d2, d3, d4, ct1, ct2, d1, d5, d6] ).T.reset_index()\n",
    "m.columns = ['attributes', 'min', 'max', 'range', 'mean', 'median', 'std', 'skew', 'kurtosis']\n",
    "m"
   ]
  },
  {
   "cell_type": "markdown",
   "id": "0d007b3d",
   "metadata": {},
   "source": [
    "### 1.5.2 Categorical Attributes"
   ]
  },
  {
   "cell_type": "code",
   "execution_count": 13,
   "id": "1722d45c",
   "metadata": {
    "ExecuteTime": {
     "end_time": "2022-12-27T08:35:22.062263Z",
     "start_time": "2022-12-27T08:35:15.450106Z"
    }
   },
   "outputs": [
    {
     "data": {
      "text/plain": [
       "<AxesSubplot: xlabel='vehicle_age', ylabel='response'>"
      ]
     },
     "execution_count": 13,
     "metadata": {},
     "output_type": "execute_result"
    },
    {
     "data": {
      "image/png": "[encoded data removed]",
      "text/plain": [
       "<Figure size 1600x800 with 2 Axes>"
      ]
     },
     "metadata": {},
     "output_type": "display_data"
    }
   ],
   "source": [
    "plt.figure(figsize=(16,8))\n",
    "\n",
    "plt.subplot(1, 2, 1)\n",
    "sns.barplot(x='gender', y='response', data=df1)\n",
    "\n",
    "plt.subplot(1, 2, 2)\n",
    "sns.barplot(x='vehicle_age', y='response', data=df1)"
   ]
  },
  {
   "cell_type": "markdown",
   "id": "9c6fda61",
   "metadata": {},
   "source": [
    "# 2.0 FEATURE ENGINEERING"
   ]
  },
  {
   "cell_type": "code",
   "execution_count": 14,
   "id": "d45d3e37",
   "metadata": {
    "ExecuteTime": {
     "end_time": "2022-12-27T08:35:22.091252Z",
     "start_time": "2022-12-27T08:35:22.066731Z"
    }
   },
   "outputs": [],
   "source": [
    "df2 = df1.copy()"
   ]
  },
  {
   "cell_type": "markdown",
   "id": "7a6ba1e7",
   "metadata": {},
   "source": [
    "## 2.1 Feature Engineering"
   ]
  },
  {
   "cell_type": "code",
   "execution_count": 15,
   "id": "335b3820",
   "metadata": {
    "ExecuteTime": {
     "end_time": "2022-12-27T08:35:22.268103Z",
     "start_time": "2022-12-27T08:35:22.092790Z"
    }
   },
   "outputs": [],
   "source": [
    "df2['vehicle_age'] = df2['vehicle_age'].apply( lambda x: 'over_2_years' if x=='> 2 Years' else\n",
    "                                                         'between_1_2_year' if x=='1-2 Year' else 'below_1_year')"
   ]
  },
  {
   "cell_type": "markdown",
   "id": "87bdb9ae",
   "metadata": {},
   "source": [
    "## 2.2 Mind Map Hypothesis"
   ]
  },
  {
   "cell_type": "code",
   "execution_count": 16,
   "id": "377f359b",
   "metadata": {
    "ExecuteTime": {
     "end_time": "2022-12-27T08:35:22.374049Z",
     "start_time": "2022-12-27T08:35:22.270620Z"
    },
    "hide_input": true
   },
   "outputs": [
    {
     "data": {
      "image/png": "[encoded data removed]",
      "text/plain": [
       "<IPython.core.display.Image object>"
      ]
     },
     "execution_count": 16,
     "metadata": {},
     "output_type": "execute_result"
    }
   ],
   "source": [
    "Image('../reports/figures/mind-map-pa004.png')"
   ]
  },
  {
   "cell_type": "markdown",
   "id": "323ba96a",
   "metadata": {},
   "source": [
    "## 2.3 Creation of Hypotheses"
   ]
  },
  {
   "cell_type": "markdown",
   "id": "a6b1e4d4",
   "metadata": {},
   "source": [
    "### 2.3.1 Users"
   ]
  },
  {
   "cell_type": "markdown",
   "id": "79c075d2",
   "metadata": {},
   "source": [
    "**1.** Usuarios acima de 40 anos devem aceitar mais o seguro de carro.\n",
    "\n",
    "**2.** Usuarias mulheres devem aceitar mais o seguro de carro.\n",
    "\n",
    "**3.** Usuarios que mais aceitam o seguro de carro estão concentrados em determinados códigos da região"
   ]
  },
  {
   "cell_type": "markdown",
   "id": "ccb58d30",
   "metadata": {},
   "source": [
    "### 2.3.2 Vehicles"
   ]
  },
  {
   "cell_type": "markdown",
   "id": "d7f36e2e",
   "metadata": {},
   "source": [
    "**1.** Veículos que já tiveram algum dano normalmente não contratam seguro de carro.\n",
    "\n",
    "**2.** Veículos em que o proprietario não possui carteira não contratam seguro de carro.\n",
    "\n",
    "**3.** Veículos com mais de 2 anos contratam seguro de carro."
   ]
  },
  {
   "cell_type": "markdown",
   "id": "e76320cf",
   "metadata": {},
   "source": [
    "### 2.3.3 Insurance"
   ]
  },
  {
   "cell_type": "markdown",
   "id": "d19cdd79",
   "metadata": {},
   "source": [
    "**1.** Usuarios com contrato em menos de 6 meses em outro produto não contratam seguro de carro\n",
    "\n",
    "**2.** Quem contém seguro de carro não contrata outro seguro.\n",
    "\n",
    "**3.** Quem mais paga o premio anual contrata outro seguro"
   ]
  },
  {
   "cell_type": "markdown",
   "id": "3c3f53cc",
   "metadata": {},
   "source": [
    "# 3.0 EXPLORATORY DATA ANALYSIS"
   ]
  },
  {
   "cell_type": "code",
   "execution_count": 17,
   "id": "8401ace9",
   "metadata": {
    "ExecuteTime": {
     "end_time": "2022-12-27T08:35:22.439271Z",
     "start_time": "2022-12-27T08:35:22.378376Z"
    }
   },
   "outputs": [],
   "source": [
    "df3 = df2.copy()"
   ]
  },
  {
   "cell_type": "markdown",
   "id": "2f2fdf58",
   "metadata": {},
   "source": [
    "## 3.1 Univariate Analysis"
   ]
  },
  {
   "cell_type": "markdown",
   "id": "480990a3",
   "metadata": {},
   "source": [
    "### 3.1.1 - Age"
   ]
  },
  {
   "cell_type": "code",
   "execution_count": 18,
   "id": "1d8a0cd8",
   "metadata": {
    "ExecuteTime": {
     "end_time": "2022-12-27T08:35:22.643515Z",
     "start_time": "2022-12-27T08:35:22.441567Z"
    }
   },
   "outputs": [
    {
     "data": {
      "text/plain": [
       "<AxesSubplot: xlabel='response', ylabel='age'>"
      ]
     },
     "execution_count": 18,
     "metadata": {},
     "output_type": "execute_result"
    },
    {
     "data": {
      "image/png": "[encoded data removed]",
      "text/plain": [
       "<Figure size 640x480 with 1 Axes>"
      ]
     },
     "metadata": {},
     "output_type": "display_data"
    }
   ],
   "source": [
    "sns.boxplot(x='response', y='age', data=df3)"
   ]
  },
  {
   "cell_type": "code",
   "execution_count": 19,
   "id": "76ff9f47",
   "metadata": {
    "ExecuteTime": {
     "end_time": "2022-12-27T08:35:23.252862Z",
     "start_time": "2022-12-27T08:35:22.645672Z"
    }
   },
   "outputs": [
    {
     "data": {
      "text/plain": [
       "<AxesSubplot: xlabel='age', ylabel='Count'>"
      ]
     },
     "execution_count": 19,
     "metadata": {},
     "output_type": "execute_result"
    },
    {
     "data": {
      "image/png": "[encoded data removed]",
      "text/plain": [
       "<Figure size 1000x600 with 2 Axes>"
      ]
     },
     "metadata": {},
     "output_type": "display_data"
    }
   ],
   "source": [
    "aux00 = df3.loc[df3['response'] == 0, 'age']\n",
    "aux01 = df3.loc[df3['response'] == 1, 'age']\n",
    "\n",
    "plt.figure(figsize=(10,6))\n",
    "\n",
    "plt.subplot( 2, 1, 1 )\n",
    "sns.histplot(aux00)\n",
    "\n",
    "plt.subplot( 2, 1, 2 )\n",
    "sns.histplot(aux01)"
   ]
  },
  {
   "cell_type": "markdown",
   "id": "25a40741",
   "metadata": {},
   "source": [
    "### 3.1.2 annual_premium"
   ]
  },
  {
   "cell_type": "code",
   "execution_count": 20,
   "id": "3299e90d",
   "metadata": {
    "ExecuteTime": {
     "end_time": "2022-12-27T08:35:23.429679Z",
     "start_time": "2022-12-27T08:35:23.255235Z"
    },
    "hide_input": false,
    "scrolled": true
   },
   "outputs": [
    {
     "data": {
      "text/plain": [
       "<AxesSubplot: xlabel='response', ylabel='annual_premium'>"
      ]
     },
     "execution_count": 20,
     "metadata": {},
     "output_type": "execute_result"
    },
    {
     "data": {
      "image/png": "[encoded data removed]",
      "text/plain": [
       "<Figure size 640x480 with 1 Axes>"
      ]
     },
     "metadata": {},
     "output_type": "display_data"
    }
   ],
   "source": [
    "aux = df3[(df3['annual_premium'] > 10000) & (df3['annual_premium'] < 60000)]\n",
    "sns.boxplot(x='response', y='annual_premium', data=aux)"
   ]
  },
  {
   "cell_type": "code",
   "execution_count": 21,
   "id": "ba8dcc2c",
   "metadata": {
    "ExecuteTime": {
     "end_time": "2022-12-27T08:35:24.087890Z",
     "start_time": "2022-12-27T08:35:23.432470Z"
    }
   },
   "outputs": [
    {
     "data": {
      "text/plain": [
       "<AxesSubplot: xlabel='annual_premium', ylabel='Count'>"
      ]
     },
     "execution_count": 21,
     "metadata": {},
     "output_type": "execute_result"
    },
    {
     "data": {
      "image/png": "[encoded data removed]",
      "text/plain": [
       "<Figure size 1000x600 with 2 Axes>"
      ]
     },
     "metadata": {},
     "output_type": "display_data"
    }
   ],
   "source": [
    "aux00 = aux.loc[aux['response'] == 0, 'annual_premium']\n",
    "aux01 = aux.loc[aux['response'] == 1, 'annual_premium']\n",
    "\n",
    "plt.figure(figsize=(10,6))\n",
    "\n",
    "plt.subplot( 2, 1, 1 )\n",
    "sns.histplot(aux00)\n",
    "\n",
    "plt.subplot( 2, 1, 2 )\n",
    "sns.histplot(aux01)"
   ]
  },
  {
   "cell_type": "markdown",
   "id": "d53fdb24",
   "metadata": {},
   "source": [
    "### 3.1.3 driving_license"
   ]
  },
  {
   "cell_type": "code",
   "execution_count": 22,
   "id": "cc93d52f",
   "metadata": {
    "ExecuteTime": {
     "end_time": "2022-12-27T08:35:24.218282Z",
     "start_time": "2022-12-27T08:35:24.089165Z"
    },
    "hide_input": false,
    "scrolled": false
   },
   "outputs": [
    {
     "data": {
      "text/plain": [
       "<AxesSubplot: xlabel='response', ylabel='driving_license'>"
      ]
     },
     "execution_count": 22,
     "metadata": {},
     "output_type": "execute_result"
    },
    {
     "data": {
      "image/png": "[encoded data removed]",
      "text/plain": [
       "<Figure size 640x480 with 1 Axes>"
      ]
     },
     "metadata": {},
     "output_type": "display_data"
    }
   ],
   "source": [
    "aux = df3[['driving_license', 'response']].groupby('response').sum().reset_index()\n",
    "sns.barplot(x='response', y='driving_license', data=aux)\n",
    "\n",
    "aux['driving_license_perc'] = (aux['driving_license'] / aux['driving_license'].sum()) * 100\n",
    "auxaux = df3[['driving_license', 'response']].groupby('response').sum().reset_index()\n",
    "sns.barplot(x='response', y='driving_license', data=aux)"
   ]
  },
  {
   "cell_type": "code",
   "execution_count": 23,
   "id": "e976300f",
   "metadata": {
    "ExecuteTime": {
     "end_time": "2022-12-27T08:35:24.227974Z",
     "start_time": "2022-12-27T08:35:24.219998Z"
    },
    "scrolled": true
   },
   "outputs": [
    {
     "data": {
      "text/html": [
       "<div>\n",
       "<style scoped>\n",
       "    .dataframe tbody tr th:only-of-type {\n",
       "        vertical-align: middle;\n",
       "    }\n",
       "\n",
       "    .dataframe tbody tr th {\n",
       "        vertical-align: top;\n",
       "    }\n",
       "\n",
       "    .dataframe thead th {\n",
       "        text-align: right;\n",
       "    }\n",
       "</style>\n",
       "<table border=\"1\" class=\"dataframe\">\n",
       "  <thead>\n",
       "    <tr style=\"text-align: right;\">\n",
       "      <th></th>\n",
       "      <th>response</th>\n",
       "      <th>driving_license</th>\n",
       "      <th>driving_license_perc</th>\n",
       "    </tr>\n",
       "  </thead>\n",
       "  <tbody>\n",
       "    <tr>\n",
       "      <th>0</th>\n",
       "      <td>0</td>\n",
       "      <td>333628</td>\n",
       "      <td>87.728276</td>\n",
       "    </tr>\n",
       "    <tr>\n",
       "      <th>1</th>\n",
       "      <td>1</td>\n",
       "      <td>46669</td>\n",
       "      <td>12.271724</td>\n",
       "    </tr>\n",
       "  </tbody>\n",
       "</table>\n",
       "</div>"
      ],
      "text/plain": [
       "   response  driving_license  driving_license_perc\n",
       "0         0           333628             87.728276\n",
       "1         1            46669             12.271724"
      ]
     },
     "execution_count": 23,
     "metadata": {},
     "output_type": "execute_result"
    }
   ],
   "source": [
    "aux['driving_license_perc'] = (aux['driving_license'] / aux['driving_license'].sum()) * 100\n",
    "aux"
   ]
  },
  {
   "cell_type": "markdown",
   "id": "f02303c8",
   "metadata": {},
   "source": [
    "### 3.1.4 region_code"
   ]
  },
  {
   "cell_type": "code",
   "execution_count": 24,
   "id": "cb95c33c",
   "metadata": {
    "ExecuteTime": {
     "end_time": "2022-12-27T08:35:24.645468Z",
     "start_time": "2022-12-27T08:35:24.232019Z"
    }
   },
   "outputs": [
    {
     "data": {
      "text/plain": [
       "<AxesSubplot: xlabel='region_code', ylabel='id'>"
      ]
     },
     "execution_count": 24,
     "metadata": {},
     "output_type": "execute_result"
    },
    {
     "data": {
      "image/png": "[encoded data removed]",
      "text/plain": [
       "<Figure size 640x480 with 1 Axes>"
      ]
     },
     "metadata": {},
     "output_type": "display_data"
    }
   ],
   "source": [
    "aux0 = df3[['id', 'region_code', 'response']].groupby(['region_code', 'response']).count().reset_index()\n",
    "sns.scatterplot(x='region_code', y='id', hue='response', data=aux0)"
   ]
  },
  {
   "cell_type": "markdown",
   "id": "f7be2cef",
   "metadata": {},
   "source": [
    "### 3.1.5 previously_insured"
   ]
  },
  {
   "cell_type": "code",
   "execution_count": 25,
   "id": "5b52a129",
   "metadata": {
    "ExecuteTime": {
     "end_time": "2022-12-27T08:35:24.721320Z",
     "start_time": "2022-12-27T08:35:24.648926Z"
    }
   },
   "outputs": [
    {
     "data": {
      "text/html": [
       "<div>\n",
       "<style scoped>\n",
       "    .dataframe tbody tr th:only-of-type {\n",
       "        vertical-align: middle;\n",
       "    }\n",
       "\n",
       "    .dataframe tbody tr th {\n",
       "        vertical-align: top;\n",
       "    }\n",
       "\n",
       "    .dataframe thead th {\n",
       "        text-align: right;\n",
       "    }\n",
       "</style>\n",
       "<table border=\"1\" class=\"dataframe\">\n",
       "  <thead>\n",
       "    <tr style=\"text-align: right;\">\n",
       "      <th>response</th>\n",
       "      <th>0</th>\n",
       "      <th>1</th>\n",
       "    </tr>\n",
       "    <tr>\n",
       "      <th>previously_insured</th>\n",
       "      <th></th>\n",
       "      <th></th>\n",
       "    </tr>\n",
       "  </thead>\n",
       "  <tbody>\n",
       "    <tr>\n",
       "      <th>0</th>\n",
       "      <td>0.774546</td>\n",
       "      <td>0.225454</td>\n",
       "    </tr>\n",
       "    <tr>\n",
       "      <th>1</th>\n",
       "      <td>0.999095</td>\n",
       "      <td>0.000905</td>\n",
       "    </tr>\n",
       "  </tbody>\n",
       "</table>\n",
       "</div>"
      ],
      "text/plain": [
       "response                   0         1\n",
       "previously_insured                    \n",
       "0                   0.774546  0.225454\n",
       "1                   0.999095  0.000905"
      ]
     },
     "execution_count": 25,
     "metadata": {},
     "output_type": "execute_result"
    }
   ],
   "source": [
    "pd.crosstab(df3['previously_insured'], df3['response']).apply(lambda x: x / x.sum(), axis=1)"
   ]
  },
  {
   "cell_type": "markdown",
   "id": "2b9a5ba2",
   "metadata": {},
   "source": [
    "### 3.1.6 vehicle_age"
   ]
  },
  {
   "cell_type": "code",
   "execution_count": 26,
   "id": "ffdfbfc4",
   "metadata": {
    "ExecuteTime": {
     "end_time": "2022-12-27T08:35:24.795161Z",
     "start_time": "2022-12-27T08:35:24.724894Z"
    }
   },
   "outputs": [
    {
     "data": {
      "text/html": [
       "<div>\n",
       "<style scoped>\n",
       "    .dataframe tbody tr th:only-of-type {\n",
       "        vertical-align: middle;\n",
       "    }\n",
       "\n",
       "    .dataframe tbody tr th {\n",
       "        vertical-align: top;\n",
       "    }\n",
       "\n",
       "    .dataframe thead th {\n",
       "        text-align: right;\n",
       "    }\n",
       "</style>\n",
       "<table border=\"1\" class=\"dataframe\">\n",
       "  <thead>\n",
       "    <tr style=\"text-align: right;\">\n",
       "      <th></th>\n",
       "      <th>vehicle_age</th>\n",
       "      <th>response</th>\n",
       "      <th>0</th>\n",
       "    </tr>\n",
       "  </thead>\n",
       "  <tbody>\n",
       "    <tr>\n",
       "      <th>1</th>\n",
       "      <td>below_1_year</td>\n",
       "      <td>0</td>\n",
       "      <td>0.413488</td>\n",
       "    </tr>\n",
       "    <tr>\n",
       "      <th>4</th>\n",
       "      <td>below_1_year</td>\n",
       "      <td>1</td>\n",
       "      <td>0.018897</td>\n",
       "    </tr>\n",
       "    <tr>\n",
       "      <th>0</th>\n",
       "      <td>between_1_2_year</td>\n",
       "      <td>0</td>\n",
       "      <td>0.434285</td>\n",
       "    </tr>\n",
       "    <tr>\n",
       "      <th>2</th>\n",
       "      <td>between_1_2_year</td>\n",
       "      <td>1</td>\n",
       "      <td>0.091328</td>\n",
       "    </tr>\n",
       "    <tr>\n",
       "      <th>3</th>\n",
       "      <td>over_2_years</td>\n",
       "      <td>0</td>\n",
       "      <td>0.029663</td>\n",
       "    </tr>\n",
       "    <tr>\n",
       "      <th>5</th>\n",
       "      <td>over_2_years</td>\n",
       "      <td>1</td>\n",
       "      <td>0.012338</td>\n",
       "    </tr>\n",
       "  </tbody>\n",
       "</table>\n",
       "</div>"
      ],
      "text/plain": [
       "        vehicle_age  response         0\n",
       "1      below_1_year         0  0.413488\n",
       "4      below_1_year         1  0.018897\n",
       "0  between_1_2_year         0  0.434285\n",
       "2  between_1_2_year         1  0.091328\n",
       "3      over_2_years         0  0.029663\n",
       "5      over_2_years         1  0.012338"
      ]
     },
     "execution_count": 26,
     "metadata": {},
     "output_type": "execute_result"
    }
   ],
   "source": [
    "df3[['vehicle_age', 'response']].value_counts(normalize=True).reset_index().sort_values('vehicle_age')"
   ]
  },
  {
   "cell_type": "markdown",
   "id": "b25de546",
   "metadata": {},
   "source": [
    "### 3.1.7 policy_sales_channel"
   ]
  },
  {
   "cell_type": "code",
   "execution_count": 27,
   "id": "0e1ae31e",
   "metadata": {
    "ExecuteTime": {
     "end_time": "2022-12-27T08:35:25.713958Z",
     "start_time": "2022-12-27T08:35:24.797193Z"
    }
   },
   "outputs": [
    {
     "data": {
      "text/plain": [
       "<AxesSubplot: xlabel='response', ylabel='policy_sales_channel'>"
      ]
     },
     "execution_count": 27,
     "metadata": {},
     "output_type": "execute_result"
    },
    {
     "data": {
      "image/png": "[encoded data removed]",
      "text/plain": [
       "<Figure size 1200x800 with 1 Axes>"
      ]
     },
     "metadata": {},
     "output_type": "display_data"
    }
   ],
   "source": [
    "plt.figure(figsize=(12,8))\n",
    "aux = df3[['policy_sales_channel', 'response']].groupby('policy_sales_channel').sum().reset_index()\n",
    "sns.barplot(x='response', y='policy_sales_channel', data=aux)"
   ]
  },
  {
   "cell_type": "markdown",
   "id": "4967ea02",
   "metadata": {},
   "source": [
    "### 3.1.8 vintage"
   ]
  },
  {
   "cell_type": "code",
   "execution_count": 28,
   "id": "da548797",
   "metadata": {
    "ExecuteTime": {
     "end_time": "2022-12-27T08:35:25.853555Z",
     "start_time": "2022-12-27T08:35:25.720437Z"
    },
    "hide_input": true,
    "scrolled": false
   },
   "outputs": [
    {
     "data": {
      "text/plain": [
       "<AxesSubplot: xlabel='response', ylabel='vintage'>"
      ]
     },
     "execution_count": 28,
     "metadata": {},
     "output_type": "execute_result"
    },
    {
     "data": {
      "image/png": "[encoded data removed]",
      "text/plain": [
       "<Figure size 640x480 with 1 Axes>"
      ]
     },
     "metadata": {},
     "output_type": "display_data"
    }
   ],
   "source": [
    "sns.boxplot(x='response', y='vintage', data=df3)"
   ]
  },
  {
   "cell_type": "code",
   "execution_count": 29,
   "id": "df66ba37",
   "metadata": {
    "ExecuteTime": {
     "end_time": "2022-12-27T08:35:26.556837Z",
     "start_time": "2022-12-27T08:35:25.855254Z"
    },
    "hide_input": true
   },
   "outputs": [
    {
     "data": {
      "image/png": "[encoded data removed]",
      "text/plain": [
       "<Figure size 1000x600 with 2 Axes>"
      ]
     },
     "metadata": {},
     "output_type": "display_data"
    }
   ],
   "source": [
    "aux00 = df3.loc[df3['response'] == 0, 'vintage']\n",
    "aux01 = df3.loc[df3['response'] == 1, 'vintage']\n",
    "\n",
    "plt.figure(figsize=(10,6))\n",
    "plt.subplot( 2, 1, 1 )\n",
    "plt.title('Response 0')\n",
    "sns.histplot(aux00)\n",
    "\n",
    "plt.subplot( 2, 1, 2 )\n",
    "plt.title('Response 1')\n",
    "sns.histplot(aux01)\n",
    "\n",
    "plt.tight_layout()"
   ]
  },
  {
   "cell_type": "markdown",
   "id": "384d07c5",
   "metadata": {},
   "source": [
    "### 3.1.9 gender"
   ]
  },
  {
   "cell_type": "code",
   "execution_count": 30,
   "id": "6e6662a8",
   "metadata": {
    "ExecuteTime": {
     "end_time": "2022-12-27T08:35:26.616503Z",
     "start_time": "2022-12-27T08:35:26.558764Z"
    }
   },
   "outputs": [
    {
     "data": {
      "text/html": [
       "<div>\n",
       "<style scoped>\n",
       "    .dataframe tbody tr th:only-of-type {\n",
       "        vertical-align: middle;\n",
       "    }\n",
       "\n",
       "    .dataframe tbody tr th {\n",
       "        vertical-align: top;\n",
       "    }\n",
       "\n",
       "    .dataframe thead th {\n",
       "        text-align: right;\n",
       "    }\n",
       "</style>\n",
       "<table border=\"1\" class=\"dataframe\">\n",
       "  <thead>\n",
       "    <tr style=\"text-align: right;\">\n",
       "      <th>response</th>\n",
       "      <th>0</th>\n",
       "      <th>1</th>\n",
       "    </tr>\n",
       "    <tr>\n",
       "      <th>gender</th>\n",
       "      <th></th>\n",
       "      <th></th>\n",
       "    </tr>\n",
       "  </thead>\n",
       "  <tbody>\n",
       "    <tr>\n",
       "      <th>Female</th>\n",
       "      <td>0.896098</td>\n",
       "      <td>0.103902</td>\n",
       "    </tr>\n",
       "    <tr>\n",
       "      <th>Male</th>\n",
       "      <td>0.861589</td>\n",
       "      <td>0.138411</td>\n",
       "    </tr>\n",
       "  </tbody>\n",
       "</table>\n",
       "</div>"
      ],
      "text/plain": [
       "response         0         1\n",
       "gender                      \n",
       "Female    0.896098  0.103902\n",
       "Male      0.861589  0.138411"
      ]
     },
     "execution_count": 30,
     "metadata": {},
     "output_type": "execute_result"
    }
   ],
   "source": [
    "pd.crosstab(df3['gender'], df3['response']).apply(lambda x: x / x.sum(), axis=1)"
   ]
  },
  {
   "cell_type": "markdown",
   "id": "7d5d2310",
   "metadata": {},
   "source": [
    "# 4 DATA PREPARATION"
   ]
  },
  {
   "cell_type": "code",
   "execution_count": 91,
   "id": "dc642651",
   "metadata": {
    "ExecuteTime": {
     "end_time": "2022-12-27T09:09:29.638785Z",
     "start_time": "2022-12-27T09:09:29.628340Z"
    }
   },
   "outputs": [],
   "source": [
    "df4 = df3.copy()"
   ]
  },
  {
   "cell_type": "code",
   "execution_count": 92,
   "id": "22e45e9b",
   "metadata": {
    "ExecuteTime": {
     "end_time": "2022-12-27T09:09:30.058220Z",
     "start_time": "2022-12-27T09:09:29.979484Z"
    }
   },
   "outputs": [],
   "source": [
    "X = df4.drop('response', axis=1)\n",
    "y = df4['response'].copy()\n",
    "\n",
    "x_train, x_validation, y_train, y_validation = ms.train_test_split(X, y, test_size=0.2)\n",
    "\n",
    "df4 = pd.concat( [x_train, y_train], axis=1 )"
   ]
  },
  {
   "cell_type": "markdown",
   "id": "d0a5d218",
   "metadata": {},
   "source": [
    "## 4.1 Standardization"
   ]
  },
  {
   "cell_type": "code",
   "execution_count": 93,
   "id": "85421837",
   "metadata": {
    "ExecuteTime": {
     "end_time": "2022-12-27T09:09:30.568690Z",
     "start_time": "2022-12-27T09:09:30.546368Z"
    }
   },
   "outputs": [],
   "source": [
    "ss = pp.StandardScaler()\n",
    "\n",
    "# annual_premium\n",
    "df4['annual_premium'] = ss.fit_transform(df4[['annual_premium']].values)\n",
    "pickle.dump(ss, open('../src/features/annual_premium_scaler.pkl', 'wb'))"
   ]
  },
  {
   "cell_type": "markdown",
   "id": "df22a2f1",
   "metadata": {},
   "source": [
    "## 4.2 Rescaling"
   ]
  },
  {
   "cell_type": "code",
   "execution_count": 94,
   "id": "1c0b4cc1",
   "metadata": {
    "ExecuteTime": {
     "end_time": "2022-12-27T09:09:31.187729Z",
     "start_time": "2022-12-27T09:09:31.169812Z"
    }
   },
   "outputs": [],
   "source": [
    "mms_age = pp.MinMaxScaler()\n",
    "mms_vintage = pp.MinMaxScaler()\n",
    "\n",
    "# age\n",
    "df4['age'] = mms_age.fit_transform(df4[['age']].values)\n",
    "pickle.dump(mms_age, open('../src/features/age_scaler.pkl', 'wb'))\n",
    "\n",
    "# vintage\n",
    "df4['vintage'] = mms_vintage.fit_transform(df4[['vintage']].values)\n",
    "pickle.dump(mms_vintage, open('../src/features/vintage_scaler.pkl', 'wb'))"
   ]
  },
  {
   "cell_type": "markdown",
   "id": "b4e0b1e8",
   "metadata": {
    "ExecuteTime": {
     "end_time": "2022-11-06T11:04:16.952112Z",
     "start_time": "2022-11-06T11:04:16.948814Z"
    }
   },
   "source": [
    "## 4.3 Encoder"
   ]
  },
  {
   "cell_type": "code",
   "execution_count": 95,
   "id": "ae7a238c",
   "metadata": {
    "ExecuteTime": {
     "end_time": "2022-12-27T09:09:31.855145Z",
     "start_time": "2022-12-27T09:09:31.737847Z"
    }
   },
   "outputs": [
    {
     "name": "stderr",
     "output_type": "stream",
     "text": [
      "/tmp/ipykernel_66630/740149533.py:3: FutureWarning: In a future version, `df.iloc[:, i] = newvals` will attempt to set the values inplace instead of always setting a new array. To retain the old behavior, use either `df[df.columns[i]] = newvals` or, if columns are non-unique, `df.isetitem(i, newvals)`\n",
      "  df4.loc[:, 'gender'] = df4['gender'].map(target_encode_gender)\n"
     ]
    }
   ],
   "source": [
    "# gender - One Hot Encoding / Target Encoding\n",
    "target_encode_gender = df4.groupby('gender')['response'].mean()\n",
    "df4.loc[:, 'gender'] = df4['gender'].map(target_encode_gender)\n",
    "pickle.dump(target_encode_gender, open('../src/features/target_encode_gender_scaler.pkl', 'wb'))\n",
    "\n",
    "# region_code - Frequency Encoding / Target Encoding / Weighted Target Encoding\n",
    "target_encode_region_code = df4.groupby('region_code')['response'].mean()\n",
    "df4.loc[:, 'region_code'] = df4['region_code'].map(target_encode_region_code)\n",
    "pickle.dump(target_encode_region_code, open('../src/features/target_encode_region_code_scaler.pkl', 'wb'))\n",
    "\n",
    "# vehicle_age - One Hot Encoding / Order Encoding / Frequency Encoding\n",
    "df4 = pd.get_dummies(df4, prefix='vehicle_age', columns=['vehicle_age'])\n",
    "# pickle.dump(ss, open('../src/features/annual_premium_scaler.pkl', 'wb'))\n",
    "\n",
    "# policy_sales_channel - One Hot Encoding / Frequency Encoding / Target Encoding / Weighted Target Encoding\n",
    "freq_policy_sales_channel = df4.groupby('policy_sales_channel').size() / len(df4)\n",
    "df4.loc[:, 'policy_sales_channel'] = df4['policy_sales_channel'].map(freq_policy_sales_channel)\n",
    "pickle.dump(freq_policy_sales_channel, open('../src/features/fe_policy_sales_channel_scaler.pkl', 'wb'))"
   ]
  },
  {
   "cell_type": "markdown",
   "id": "b8f5ea70",
   "metadata": {},
   "source": [
    "## 4.4 Validation Preparation"
   ]
  },
  {
   "cell_type": "code",
   "execution_count": 36,
   "id": "bf14b3f8",
   "metadata": {
    "ExecuteTime": {
     "end_time": "2022-12-27T08:35:27.269662Z",
     "start_time": "2022-12-27T08:35:27.203947Z"
    }
   },
   "outputs": [
    {
     "name": "stderr",
     "output_type": "stream",
     "text": [
      "/tmp/ipykernel_66630/1085506009.py:2: FutureWarning: In a future version, `df.iloc[:, i] = newvals` will attempt to set the values inplace instead of always setting a new array. To retain the old behavior, use either `df[df.columns[i]] = newvals` or, if columns are non-unique, `df.isetitem(i, newvals)`\n",
      "  x_validation.loc[:, 'gender'] = x_validation.loc[:, 'gender'].map(target_encode_gender)\n"
     ]
    }
   ],
   "source": [
    "# # gender\n",
    "# x_validation.loc[:, 'gender'] = x_validation.loc[:, 'gender'].map(target_encode_gender)\n",
    "\n",
    "# # age\n",
    "# x_validation.loc[:, 'age'] = mms_age.transform( x_validation[['age']].values )\n",
    "\n",
    "# # region_code\n",
    "# x_validation.loc[:, 'region_code'] = x_validation.loc[:, 'region_code'].map(target_encode_region_code)\n",
    "\n",
    "# # vehicle_age\n",
    "# x_validation = pd.get_dummies(x_validation, prefix='vehicle_age', columns=['vehicle_age'])\n",
    "\n",
    "# # annual_premium\n",
    "# x_validation.loc[:, 'annual_premium'] = ss.transform( x_validation[['annual_premium']].values )\n",
    "\n",
    "# # policy_sales_channel\n",
    "# x_validation.loc[:, 'policy_sales_channel'] = x_validation.loc[:, 'policy_sales_channel'].map(freq_policy_sales_channel)\n",
    "\n",
    "# # vintage\n",
    "# x_validation.loc[:, 'vintage'] = mms_vintage.transform( x_validation[['vintage']].values )\n",
    "\n",
    "# # fillna\n",
    "# x_validation = x_validation.fillna(0)"
   ]
  },
  {
   "cell_type": "markdown",
   "id": "cb8fff50",
   "metadata": {},
   "source": [
    "# 5.0 FEATURE SELECTION"
   ]
  },
  {
   "cell_type": "markdown",
   "id": "37e06628",
   "metadata": {},
   "source": [
    "## 5.1 Features Importance"
   ]
  },
  {
   "cell_type": "code",
   "execution_count": 37,
   "id": "78a9dc07",
   "metadata": {
    "ExecuteTime": {
     "end_time": "2022-12-27T08:36:18.932916Z",
     "start_time": "2022-12-27T08:35:27.271526Z"
    }
   },
   "outputs": [
    {
     "data": {
      "text/html": [
       "<style>#sk-container-id-1 {color: black;background-color: white;}#sk-container-id-1 pre{padding: 0;}#sk-container-id-1 div.sk-toggleable {background-color: white;}#sk-container-id-1 label.sk-toggleable__label {cursor: pointer;display: block;width: 100%;margin-bottom: 0;padding: 0.3em;box-sizing: border-box;text-align: center;}#sk-container-id-1 label.sk-toggleable__label-arrow:before {content: \"▸\";float: left;margin-right: 0.25em;color: #696969;}#sk-container-id-1 label.sk-toggleable__label-arrow:hover:before {color: black;}#sk-container-id-1 div.sk-estimator:hover label.sk-toggleable__label-arrow:before {color: black;}#sk-container-id-1 div.sk-toggleable__content {max-height: 0;max-width: 0;overflow: hidden;text-align: left;background-color: #f0f8ff;}#sk-container-id-1 div.sk-toggleable__content pre {margin: 0.2em;color: black;border-radius: 0.25em;background-color: #f0f8ff;}#sk-container-id-1 input.sk-toggleable__control:checked~div.sk-toggleable__content {max-height: 200px;max-width: 100%;overflow: auto;}#sk-container-id-1 input.sk-toggleable__control:checked~label.sk-toggleable__label-arrow:before {content: \"▾\";}#sk-container-id-1 div.sk-estimator input.sk-toggleable__control:checked~label.sk-toggleable__label {background-color: #d4ebff;}#sk-container-id-1 div.sk-label input.sk-toggleable__control:checked~label.sk-toggleable__label {background-color: #d4ebff;}#sk-container-id-1 input.sk-hidden--visually {border: 0;clip: rect(1px 1px 1px 1px);clip: rect(1px, 1px, 1px, 1px);height: 1px;margin: -1px;overflow: hidden;padding: 0;position: absolute;width: 1px;}#sk-container-id-1 div.sk-estimator {font-family: monospace;background-color: #f0f8ff;border: 1px dotted black;border-radius: 0.25em;box-sizing: border-box;margin-bottom: 0.5em;}#sk-container-id-1 div.sk-estimator:hover {background-color: #d4ebff;}#sk-container-id-1 div.sk-parallel-item::after {content: \"\";width: 100%;border-bottom: 1px solid gray;flex-grow: 1;}#sk-container-id-1 div.sk-label:hover label.sk-toggleable__label {background-color: #d4ebff;}#sk-container-id-1 div.sk-serial::before {content: \"\";position: absolute;border-left: 1px solid gray;box-sizing: border-box;top: 0;bottom: 0;left: 50%;z-index: 0;}#sk-container-id-1 div.sk-serial {display: flex;flex-direction: column;align-items: center;background-color: white;padding-right: 0.2em;padding-left: 0.2em;position: relative;}#sk-container-id-1 div.sk-item {position: relative;z-index: 1;}#sk-container-id-1 div.sk-parallel {display: flex;align-items: stretch;justify-content: center;background-color: white;position: relative;}#sk-container-id-1 div.sk-item::before, #sk-container-id-1 div.sk-parallel-item::before {content: \"\";position: absolute;border-left: 1px solid gray;box-sizing: border-box;top: 0;bottom: 0;left: 50%;z-index: -1;}#sk-container-id-1 div.sk-parallel-item {display: flex;flex-direction: column;z-index: 1;position: relative;background-color: white;}#sk-container-id-1 div.sk-parallel-item:first-child::after {align-self: flex-end;width: 50%;}#sk-container-id-1 div.sk-parallel-item:last-child::after {align-self: flex-start;width: 50%;}#sk-container-id-1 div.sk-parallel-item:only-child::after {width: 0;}#sk-container-id-1 div.sk-dashed-wrapped {border: 1px dashed gray;margin: 0 0.4em 0.5em 0.4em;box-sizing: border-box;padding-bottom: 0.4em;background-color: white;}#sk-container-id-1 div.sk-label label {font-family: monospace;font-weight: bold;display: inline-block;line-height: 1.2em;}#sk-container-id-1 div.sk-label-container {text-align: center;}#sk-container-id-1 div.sk-container {/* jupyter's `normalize.less` sets `[hidden] { display: none; }` but bootstrap.min.css set `[hidden] { display: none !important; }` so we also need the `!important` here to be able to override the default hidden behavior on the sphinx rendered scikit-learn.org. See: https://github.com/scikit-learn/scikit-learn/issues/21755 */display: inline-block !important;position: relative;}#sk-container-id-1 div.sk-text-repr-fallback {display: none;}</style><div id=\"sk-container-id-1\" class=\"sk-top-container\"><div class=\"sk-text-repr-fallback\"><pre>ExtraTreesClassifier(n_estimators=250, n_jobs=1, random_state=0)</pre><b>In a Jupyter environment, please rerun this cell to show the HTML representation or trust the notebook. <br />On GitHub, the HTML representation is unable to render, please try loading this page with nbviewer.org.</b></div><div class=\"sk-container\" hidden><div class=\"sk-item\"><div class=\"sk-estimator sk-toggleable\"><input class=\"sk-toggleable__control sk-hidden--visually\" id=\"sk-estimator-id-1\" type=\"checkbox\" checked><label for=\"sk-estimator-id-1\" class=\"sk-toggleable__label sk-toggleable__label-arrow\">ExtraTreesClassifier</label><div class=\"sk-toggleable__content\"><pre>ExtraTreesClassifier(n_estimators=250, n_jobs=1, random_state=0)</pre></div></div></div></div></div>"
      ],
      "text/plain": [
       "ExtraTreesClassifier(n_estimators=250, n_jobs=1, random_state=0)"
      ]
     },
     "execution_count": 37,
     "metadata": {},
     "output_type": "execute_result"
    }
   ],
   "source": [
    "# model definition\n",
    "forest = en.ExtraTreesClassifier(n_estimators=250, random_state=0, n_jobs=1)\n",
    "\n",
    "# data preparation\n",
    "x_train_n = df4.drop(['id', 'response'], axis=1)\n",
    "y_train_n = y_train.values\n",
    "forest.fit(x_train_n, y_train_n)"
   ]
  },
  {
   "cell_type": "code",
   "execution_count": 38,
   "id": "023c9db6",
   "metadata": {
    "ExecuteTime": {
     "end_time": "2022-12-27T08:36:20.323447Z",
     "start_time": "2022-12-27T08:36:18.935061Z"
    }
   },
   "outputs": [
    {
     "name": "stdout",
     "output_type": "stream",
     "text": [
      "Feature Ranking: \n",
      "                        feature  importance\n",
      "0                       vintage    0.272266\n",
      "0                annual_premium    0.245011\n",
      "0                           age    0.166275\n",
      "0                   region_code    0.103123\n",
      "0                vehicle_damage    0.068287\n",
      "0          policy_sales_channel    0.060761\n",
      "0            previously_insured    0.056134\n",
      "0      vehicle_age_below_1_year    0.014667\n",
      "0  vehicle_age_between_1_2_year    0.005843\n",
      "0                        gender    0.004971\n",
      "0      vehicle_age_over_2_years    0.002193\n",
      "0               driving_license    0.000468\n"
     ]
    },
    {
     "data": {
      "image/png": "[encoded data removed]",
      "text/plain": [
       "<Figure size 640x480 with 1 Axes>"
      ]
     },
     "metadata": {},
     "output_type": "display_data"
    }
   ],
   "source": [
    "importances = forest.feature_importances_\n",
    "std = np.std([tree.feature_importances_ for tree in forest.estimators_], axis=0)\n",
    "indices = np.argsort(importances)[::-1]\n",
    "\n",
    "# print the feature ranking\n",
    "print('Feature Ranking: ')\n",
    "df = pd.DataFrame()\n",
    "for i, j in zip(x_train_n, forest.feature_importances_):\n",
    "    aux = pd.DataFrame( {'feature': i, 'importance': j}, index=[0])\n",
    "    df = pd.concat([df, aux], axis=0)\n",
    "    \n",
    "print(df.sort_values('importance', ascending=False))\n",
    "\n",
    "# Plot the impurity-based feature importances of the forest\n",
    "plt.figure()\n",
    "plt.title('Feature Importance')\n",
    "plt.bar(range(x_train_n.shape[1]), \n",
    "        importances[indices], \n",
    "        color='r', \n",
    "        yerr=std[indices], \n",
    "        align='center')\n",
    "plt.xticks(range(x_train_n.shape[1]), \n",
    "           indices) \n",
    "plt.xlim([-1, x_train_n.shape[1]])\n",
    "plt.show()"
   ]
  },
  {
   "cell_type": "markdown",
   "id": "ede5cab5",
   "metadata": {},
   "source": [
    "# 6.0 MACHINE LEARNING"
   ]
  },
  {
   "cell_type": "code",
   "execution_count": 39,
   "id": "e1c0b2a8",
   "metadata": {
    "ExecuteTime": {
     "end_time": "2022-12-27T08:36:20.328729Z",
     "start_time": "2022-12-27T08:36:20.325396Z"
    },
    "code_folding": []
   },
   "outputs": [],
   "source": [
    "cols_selected = ['annual_premium', 'vintage', 'age', 'region_code', 'vehicle_damage', \n",
    "                 'previously_insured', 'policy_sales_channel']"
   ]
  },
  {
   "cell_type": "code",
   "execution_count": 40,
   "id": "d0513ff0",
   "metadata": {
    "ExecuteTime": {
     "end_time": "2022-12-27T08:36:20.458535Z",
     "start_time": "2022-12-27T08:36:20.331175Z"
    }
   },
   "outputs": [],
   "source": [
    "x_train = df4[cols_selected]\n",
    "x_val = x_validation[cols_selected]\n",
    "y_val = y_validation.copy()"
   ]
  },
  {
   "cell_type": "markdown",
   "id": "f725e98c",
   "metadata": {},
   "source": [
    "## 6.1 KNN"
   ]
  },
  {
   "cell_type": "code",
   "execution_count": 41,
   "id": "69fb1e7c",
   "metadata": {
    "ExecuteTime": {
     "end_time": "2022-12-27T08:36:26.620171Z",
     "start_time": "2022-12-27T08:36:20.460711Z"
    }
   },
   "outputs": [
    {
     "data": {
      "image/png": "[encoded data removed]",
      "text/plain": [
       "<Figure size 640x480 with 1 Axes>"
      ]
     },
     "metadata": {},
     "output_type": "display_data"
    }
   ],
   "source": [
    "# model definition\n",
    "knn_model = nh.KNeighborsClassifier(n_neighbors=2)\n",
    "\n",
    "# model_training\n",
    "knn_model.fit(x_train, y_train)\n",
    "\n",
    "# model prediction - Poder de Generalizacao\n",
    "yhat_knn = knn_model.predict_proba(x_val)\n",
    "\n",
    "# Acumulative Gain\n",
    "skplt.metrics.plot_cumulative_gain(y_val, yhat_knn);"
   ]
  },
  {
   "cell_type": "markdown",
   "id": "c6ff0d00",
   "metadata": {},
   "source": [
    "## 6.2 Logistic Regression"
   ]
  },
  {
   "cell_type": "code",
   "execution_count": 42,
   "id": "a43618af",
   "metadata": {
    "ExecuteTime": {
     "end_time": "2022-12-27T08:36:27.757748Z",
     "start_time": "2022-12-27T08:36:26.622682Z"
    }
   },
   "outputs": [
    {
     "data": {
      "image/png": "[encoded data removed]",
      "text/plain": [
       "<Figure size 640x480 with 1 Axes>"
      ]
     },
     "metadata": {},
     "output_type": "display_data"
    }
   ],
   "source": [
    "# model definition\n",
    "lr_model = lm.LogisticRegression(random_state=42)\n",
    "\n",
    "# model_training\n",
    "lr_model.fit(x_train, y_train)\n",
    "\n",
    "# model prediction - Poder de Generalizacao\n",
    "yhat_lr = lr_model.predict_proba(x_val)\n",
    "\n",
    "# Acumulative Gain\n",
    "skplt.metrics.plot_cumulative_gain(y_val, yhat_lr);"
   ]
  },
  {
   "cell_type": "code",
   "execution_count": 109,
   "id": "48d2be30",
   "metadata": {
    "ExecuteTime": {
     "end_time": "2022-12-27T09:20:04.160309Z",
     "start_time": "2022-12-27T09:20:04.154068Z"
    }
   },
   "outputs": [
    {
     "data": {
      "text/plain": [
       "array([[7.87043531e-01, 2.12956469e-01],\n",
       "       [7.35265588e-01, 2.64734412e-01],\n",
       "       [9.48817981e-01, 5.11820189e-02],\n",
       "       ...,\n",
       "       [7.67299943e-01, 2.32700057e-01],\n",
       "       [9.99375196e-01, 6.24803999e-04],\n",
       "       [7.71557831e-01, 2.28442169e-01]])"
      ]
     },
     "execution_count": 109,
     "metadata": {},
     "output_type": "execute_result"
    }
   ],
   "source": [
    "yhat_lr"
   ]
  },
  {
   "cell_type": "markdown",
   "id": "8ac97a15",
   "metadata": {},
   "source": [
    "## 6.3 Extra Trees"
   ]
  },
  {
   "cell_type": "code",
   "execution_count": 43,
   "id": "6b44516f",
   "metadata": {
    "ExecuteTime": {
     "end_time": "2022-12-27T08:36:27.763855Z",
     "start_time": "2022-12-27T08:36:27.760567Z"
    }
   },
   "outputs": [],
   "source": [
    "# model definition\n",
    "# et = en.ExtraTreesClassifier(n_estimators=10, n_jobs=-1, random_state=42)\n",
    "\n",
    "# model fit\n",
    "# et.fit(x_train, y_train)\n",
    "\n",
    "# model predict\n",
    "# yhat_et = et.predict_proba(x_val)"
   ]
  },
  {
   "cell_type": "markdown",
   "id": "e39fee89",
   "metadata": {},
   "source": [
    "# 7.0 Model Performance"
   ]
  },
  {
   "cell_type": "code",
   "execution_count": 44,
   "id": "ced17e0e",
   "metadata": {
    "ExecuteTime": {
     "end_time": "2022-12-27T08:36:27.866415Z",
     "start_time": "2022-12-27T08:36:27.766300Z"
    }
   },
   "outputs": [],
   "source": [
    "df7 = x_validation.copy()\n",
    "df7['response'] = y_validation.copy()"
   ]
  },
  {
   "cell_type": "code",
   "execution_count": 45,
   "id": "b91a291e",
   "metadata": {
    "ExecuteTime": {
     "end_time": "2022-12-27T08:36:27.952499Z",
     "start_time": "2022-12-27T08:36:27.870288Z"
    }
   },
   "outputs": [],
   "source": [
    "# propensity score\n",
    "df7['score'] = yhat_knn[:,1].tolist()"
   ]
  },
  {
   "cell_type": "code",
   "execution_count": 46,
   "id": "f66bec92",
   "metadata": {
    "ExecuteTime": {
     "end_time": "2022-12-27T08:36:28.023820Z",
     "start_time": "2022-12-27T08:36:27.954232Z"
    }
   },
   "outputs": [],
   "source": [
    "# sorted clients by propensity score\n",
    "df7 = df7.sort_values('score', ascending=False)"
   ]
  },
  {
   "cell_type": "code",
   "execution_count": 112,
   "id": "7a31383f",
   "metadata": {
    "ExecuteTime": {
     "end_time": "2022-12-27T09:22:09.810132Z",
     "start_time": "2022-12-27T09:22:09.803468Z"
    }
   },
   "outputs": [
    {
     "data": {
      "text/plain": [
       "array([0.21295647, 0.26473441, 0.05118202, ..., 0.23270006, 0.0006248 ,\n",
       "       0.22844217])"
      ]
     },
     "execution_count": 112,
     "metadata": {},
     "output_type": "execute_result"
    }
   ],
   "source": [
    "yhat_lr[:,1]"
   ]
  },
  {
   "cell_type": "code",
   "execution_count": 47,
   "id": "154e16e4",
   "metadata": {
    "ExecuteTime": {
     "end_time": "2022-12-27T08:36:28.080868Z",
     "start_time": "2022-12-27T08:36:28.025996Z"
    }
   },
   "outputs": [],
   "source": [
    "def precision_at_k(data, k=2000):\n",
    "    # reset index\n",
    "    data = data.reset_index(drop=True)\n",
    "\n",
    "    # order by ranking\n",
    "    data['ranking'] = data.index + 1\n",
    "\n",
    "    data['precision_at_k'] =  data['response'].cumsum() / data['ranking']\n",
    "\n",
    "    return data.loc[k, 'precision_at_k']"
   ]
  },
  {
   "cell_type": "code",
   "execution_count": 48,
   "id": "e3c6c6d9",
   "metadata": {
    "ExecuteTime": {
     "end_time": "2022-12-27T08:36:28.197922Z",
     "start_time": "2022-12-27T08:36:28.083442Z"
    }
   },
   "outputs": [],
   "source": [
    "def recall_at_k(data, k=2000):\n",
    "    # reset index\n",
    "    data = data.reset_index(drop=True)\n",
    "\n",
    "    # order by ranking\n",
    "    data['ranking'] = data.index + 1\n",
    "\n",
    "    data['recall_at_k'] =  data['response'].cumsum() / data['response'].sum()\n",
    "\n",
    "    return data.loc[k, 'recall_at_k']"
   ]
  },
  {
   "cell_type": "code",
   "execution_count": 49,
   "id": "e8dff0c6",
   "metadata": {
    "ExecuteTime": {
     "end_time": "2022-12-27T08:36:28.301999Z",
     "start_time": "2022-12-27T08:36:28.201838Z"
    },
    "scrolled": true
   },
   "outputs": [
    {
     "name": "stdout",
     "output_type": "stream",
     "text": [
      "Precision at K: 0.3333333333333333\n",
      "Recall at K: 0.0018069727891156463\n"
     ]
    }
   ],
   "source": [
    "precision_at_50 = precision_at_k(df7, 50)\n",
    "print('Precision at K: {}'.format(precision_at_50))\n",
    "\n",
    "recall_at_50 = recall_at_k(df7, 50)\n",
    "print('Recall at K: {}'.format(recall_at_50))"
   ]
  },
  {
   "cell_type": "markdown",
   "id": "509ecc29",
   "metadata": {},
   "source": [
    "# 8.0 Deploy to Production"
   ]
  },
  {
   "cell_type": "code",
   "execution_count": 50,
   "id": "c8a1b3a1",
   "metadata": {
    "ExecuteTime": {
     "end_time": "2022-12-27T08:36:28.397762Z",
     "start_time": "2022-12-27T08:36:28.305747Z"
    }
   },
   "outputs": [],
   "source": [
    "pickle.dump(lr_model, open('/home/vvilela/repos/health_insurance/models/model_linear_regression.pkl', 'wb'))"
   ]
  },
  {
   "cell_type": "markdown",
   "id": "ca6225c3",
   "metadata": {},
   "source": [
    "## 8.1 Health Insurance Class"
   ]
  },
  {
   "cell_type": "code",
   "execution_count": 51,
   "id": "2551234b",
   "metadata": {
    "ExecuteTime": {
     "end_time": "2022-12-27T08:36:28.501156Z",
     "start_time": "2022-12-27T08:36:28.401189Z"
    }
   },
   "outputs": [],
   "source": [
    "import pickle\n",
    "import pandas as pd\n",
    "import numpy as np\n",
    "\n",
    "class HealthInsurance():\n",
    "    \n",
    "    def __init__(self):\n",
    "        self.home_path = '/home/vvilela/repos/health_insurance/'\n",
    "        self.annual_premium_scaler =            pickle.load(open(self.home_path + 'src/features/annual_premium_scaler.pkl'))\n",
    "        self.age_scaler =                       pickle.load(open(self.home_path + 'src/features/age_scaler.pkl'))\n",
    "        self.vintage_scaler =                   pickle.load(open(self.home_path + 'src/features/vintage_scaler.pkl'))\n",
    "        self.target_encode_gender_scaler =      pickle.load(open(self.home_path + 'src/features/target_encode_gender_scaler.pkl'))\n",
    "        self.target_encode_region_code_scaler = pickle.load(open(self.home_path + 'src/features/target_encode_region_code_scaler.pkl'))\n",
    "        self.fe_policy_sales_channel_scaler =   pickle.load(open(self.home_path + 'src/features/fe_policy_sales_channel_scaler.pkl'))\n",
    "        \n",
    "    def data_engineering(data):\n",
    "        # vehicle_damage\n",
    "        data['vehicle_damage'] = data['vehicle_damage'].apply( lambda x: 1 if x=='Yes' else 0)\n",
    "        \n",
    "        # vehicle_age\n",
    "        data['vehicle_age'] = data['vehicle_age'].apply( lambda x: 'over_2_years' if x=='> 2 Years' else\n",
    "                                                         'between_1_2_year' if x=='1-2 Year' else 'below_1_year')\n",
    "        return data\n",
    "    \n",
    "\n",
    "    def data_preparation(data):\n",
    "\n",
    "        # annual_premium\n",
    "        data['annual_premium'] = self.annual_premium_scaler.transform(data[['annual_premium']].values)\n",
    "        \n",
    "        # age\n",
    "        data['age'] = self.age_scaler.transform(data[['age']].values)\n",
    "\n",
    "        # vintage\n",
    "        data['vintage'] = self.vintage_scaler.transform(data[['vintage']].values)\n",
    "\n",
    "        # gender\n",
    "        data.loc[:, 'gender'] = data['gender'].map(self.target_encode_gender_scaler)\n",
    "\n",
    "        # region_code\n",
    "        data.loc[:, 'region_code'] = data['region_code'].map(self.target_encode_region_code_scaler)\n",
    "\n",
    "        # policy_sales_channel\n",
    "        data.loc[:, 'policy_sales_channel'] = data['policy_sales_channel'].map(self.fe_policy_sales_channel_scaler)\n",
    "\n",
    "        cols_selected = ['annual_premium', 'vintage', 'age', 'region_code', 'vehicle_damage', \n",
    "                         'previously_insured', 'policy_sales_channel']\n",
    "        \n",
    "        return data[cols_selected]\n",
    "    \n",
    "    def get_prediction(self, model, original_data, test_data):\n",
    "        # model prediction\n",
    "        pred = model.predict_proba(test_data)\n",
    "        \n",
    "        # join prediction into original data\n",
    "        original_data['prediction'] = pred\n",
    "        \n",
    "        return original_data.to_json(orient='records', date_format='iso')"
   ]
  },
  {
   "cell_type": "markdown",
   "id": "96d308ee",
   "metadata": {},
   "source": [
    "## 8.2 API Handler"
   ]
  },
  {
   "cell_type": "code",
   "execution_count": 52,
   "id": "44951f3f",
   "metadata": {
    "ExecuteTime": {
     "end_time": "2022-12-27T08:36:29.208936Z",
     "start_time": "2022-12-27T08:36:28.504623Z"
    }
   },
   "outputs": [
    {
     "ename": "ModuleNotFoundError",
     "evalue": "No module named 'health_insurance'",
     "output_type": "error",
     "traceback": [
      "\u001b[0;31m---------------------------------------------------------------------------\u001b[0m",
      "\u001b[0;31mModuleNotFoundError\u001b[0m                       Traceback (most recent call last)",
      "Cell \u001b[0;32mIn [52], line 4\u001b[0m\n\u001b[1;32m      2\u001b[0m \u001b[38;5;28;01mimport\u001b[39;00m \u001b[38;5;21;01mpandas\u001b[39;00m \u001b[38;5;28;01mas\u001b[39;00m \u001b[38;5;21;01mpd\u001b[39;00m\n\u001b[1;32m      3\u001b[0m \u001b[38;5;28;01mfrom\u001b[39;00m \u001b[38;5;21;01mflask\u001b[39;00m \u001b[38;5;28;01mimport\u001b[39;00m Flask, request, Response\n\u001b[0;32m----> 4\u001b[0m \u001b[38;5;28;01mfrom\u001b[39;00m \u001b[38;5;21;01mhealth_insurance\u001b[39;00m \u001b[38;5;28;01mimport\u001b[39;00m HealthInsurance\n\u001b[1;32m      6\u001b[0m \u001b[38;5;66;03m# loading model\u001b[39;00m\n\u001b[1;32m      7\u001b[0m path \u001b[38;5;241m=\u001b[39m \u001b[38;5;124m'\u001b[39m\u001b[38;5;124m/home/vvilela/repos/health_insurance/models/\u001b[39m\u001b[38;5;124m'\u001b[39m\n",
      "\u001b[0;31mModuleNotFoundError\u001b[0m: No module named 'health_insurance'"
     ]
    }
   ],
   "source": [
    "import pickle\n",
    "import pandas as pd\n",
    "from flask import Flask, request, Response\n",
    "from health_insurance import HealthInsurance\n",
    "\n",
    "# loading model\n",
    "path = '/home/vvilela/repos/health_insurance/models/'\n",
    "model = pickle.load(open( path + 'model_linear_regression.pkl', 'rb'))\n",
    "\n",
    "# initialize API\n",
    "app = Flask(__name__)\n",
    "\n",
    "@app.route('/predict', methods=['POST'])\n",
    "def health_insurance_predict():\n",
    "    test_json = request.get_json()\n",
    "    \n",
    "    if test_json: # data\n",
    "        if isinstance(test_json, dict): # unique example\n",
    "            test_raw = pd.DataFrame(test_json, index=[0])\n",
    "            \n",
    "        else: # multiple example\n",
    "            test_raw = pd.DataFrame(test_json, columns=test_json[0].keys() )\n",
    "    \n",
    "        # instanciate health insurance class\n",
    "        pipeline = HealthInsurance()\n",
    "\n",
    "        df1 = pipeline.data_cleaning(test_raw)\n",
    "\n",
    "        df2 = pipeline.data_engineering(df1)\n",
    "\n",
    "        df3 = pipeline.data_preparation(df2)\n",
    "\n",
    "        df_response = pipeline.get_prediction(model, test_raw, df3)\n",
    "\n",
    "        return df_response\n",
    "    \n",
    "    else:\n",
    "        return Response( '{}', status=200, mimetype='application/json' )\n",
    "\n",
    "if __name__ == '__main__':\n",
    "    app.run('0.0.0.0', debug=True)"
   ]
  },
  {
   "cell_type": "markdown",
   "id": "e0e58d3e",
   "metadata": {},
   "source": [
    "## 8.3 API Tester"
   ]
  },
  {
   "cell_type": "code",
   "execution_count": 53,
   "id": "79ac7be1",
   "metadata": {
    "ExecuteTime": {
     "end_time": "2022-12-27T08:37:14.972054Z",
     "start_time": "2022-12-27T08:37:14.686004Z"
    }
   },
   "outputs": [],
   "source": [
    "import requests\n",
    "import json"
   ]
  },
  {
   "cell_type": "code",
   "execution_count": 97,
   "id": "1b02ab65",
   "metadata": {
    "ExecuteTime": {
     "end_time": "2022-12-27T09:09:41.311174Z",
     "start_time": "2022-12-27T09:09:41.306267Z"
    }
   },
   "outputs": [],
   "source": [
    "df_test = x_validation\n",
    "df_test['response'] = y_validation"
   ]
  },
  {
   "cell_type": "code",
   "execution_count": 119,
   "id": "73985257",
   "metadata": {
    "ExecuteTime": {
     "end_time": "2022-12-27T09:39:08.640939Z",
     "start_time": "2022-12-27T09:39:08.616821Z"
    }
   },
   "outputs": [],
   "source": [
    "df_test = df_test.sample(10)\n",
    "df_test.to_csv('sample_dataset.csv', index=False)"
   ]
  },
  {
   "cell_type": "code",
   "execution_count": 127,
   "id": "60b8996c",
   "metadata": {
    "ExecuteTime": {
     "end_time": "2022-12-27T10:40:27.890034Z",
     "start_time": "2022-12-27T10:40:27.882561Z"
    }
   },
   "outputs": [
    {
     "data": {
      "text/plain": [
       "'[{\"id\": 250747, \"gender\": \"Male\", \"age\": 72, \"region_code\": 41.0, \"policy_sales_channel\": 26.0, \"previously_insured\": 1, \"annual_premium\": 41362.0, \"vintage\": 74, \"driving_license\": 1, \"vehicle_age\": \"between_1_2_year\", \"vehicle_damage\": 0, \"response\": 0}, {\"id\": 348736, \"gender\": \"Female\", \"age\": 24, \"region_code\": 15.0, \"policy_sales_channel\": 152.0, \"previously_insured\": 1, \"annual_premium\": 2630.0, \"vintage\": 184, \"driving_license\": 1, \"vehicle_age\": \"below_1_year\", \"vehicle_damage\": 0, \"response\": 0}, {\"id\": 361707, \"gender\": \"Female\", \"age\": 22, \"region_code\": 15.0, \"policy_sales_channel\": 152.0, \"previously_insured\": 1, \"annual_premium\": 2630.0, \"vintage\": 101, \"driving_license\": 1, \"vehicle_age\": \"below_1_year\", \"vehicle_damage\": 0, \"response\": 0}, {\"id\": 343151, \"gender\": \"Female\", \"age\": 58, \"region_code\": 28.0, \"policy_sales_channel\": 122.0, \"previously_insured\": 0, \"annual_premium\": 30031.0, \"vintage\": 20, \"driving_license\": 1, \"vehicle_age\": \"over_2_years\", \"vehicle_damage\": 1, \"response\": 0}, {\"id\": 48227, \"gender\": \"Female\", \"age\": 43, \"region_code\": 14.0, \"policy_sales_channel\": 30.0, \"previously_insured\": 0, \"annual_premium\": 29368.0, \"vintage\": 135, \"driving_license\": 1, \"vehicle_age\": \"between_1_2_year\", \"vehicle_damage\": 0, \"response\": 0}, {\"id\": 372643, \"gender\": \"Male\", \"age\": 22, \"region_code\": 11.0, \"policy_sales_channel\": 152.0, \"previously_insured\": 1, \"annual_premium\": 2630.0, \"vintage\": 185, \"driving_license\": 1, \"vehicle_age\": \"below_1_year\", \"vehicle_damage\": 0, \"response\": 0}, {\"id\": 356604, \"gender\": \"Male\", \"age\": 36, \"region_code\": 36.0, \"policy_sales_channel\": 26.0, \"previously_insured\": 0, \"annual_premium\": 34444.0, \"vintage\": 298, \"driving_license\": 1, \"vehicle_age\": \"between_1_2_year\", \"vehicle_damage\": 1, \"response\": 1}, {\"id\": 238098, \"gender\": \"Male\", \"age\": 67, \"region_code\": 11.0, \"policy_sales_channel\": 26.0, \"previously_insured\": 0, \"annual_premium\": 2630.0, \"vintage\": 191, \"driving_license\": 1, \"vehicle_age\": \"between_1_2_year\", \"vehicle_damage\": 1, \"response\": 0}, {\"id\": 142366, \"gender\": \"Female\", \"age\": 60, \"region_code\": 28.0, \"policy_sales_channel\": 26.0, \"previously_insured\": 0, \"annual_premium\": 57464.0, \"vintage\": 217, \"driving_license\": 1, \"vehicle_age\": \"between_1_2_year\", \"vehicle_damage\": 1, \"response\": 0}, {\"id\": 183314, \"gender\": \"Female\", \"age\": 30, \"region_code\": 36.0, \"policy_sales_channel\": 152.0, \"previously_insured\": 1, \"annual_premium\": 32473.0, \"vintage\": 266, \"driving_license\": 1, \"vehicle_age\": \"below_1_year\", \"vehicle_damage\": 0, \"response\": 0}]'"
      ]
     },
     "execution_count": 127,
     "metadata": {},
     "output_type": "execute_result"
    }
   ],
   "source": [
    "data = json.dumps(df_test.to_dict(orient='records'))\n",
    "data"
   ]
  },
  {
   "cell_type": "code",
   "execution_count": 151,
   "id": "2ce5e34c",
   "metadata": {
    "ExecuteTime": {
     "end_time": "2022-12-27T11:33:40.523750Z",
     "start_time": "2022-12-27T11:33:40.519510Z"
    }
   },
   "outputs": [],
   "source": [
    "# API Call\n",
    "url = 'http://0.0.0.0:8000/predict'\n",
    "header = {'Content-type': 'application/json'}"
   ]
  },
  {
   "cell_type": "code",
   "execution_count": 153,
   "id": "f726ac78",
   "metadata": {
    "ExecuteTime": {
     "end_time": "2023-01-02T11:05:01.045654Z",
     "start_time": "2023-01-02T11:05:01.020917Z"
    }
   },
   "outputs": [
    {
     "name": "stdout",
     "output_type": "stream",
     "text": [
      "Status Code 200\n"
     ]
    }
   ],
   "source": [
    "r = requests.post(url, headers=header, data=data )\n",
    "print(f'Status Code {r.status_code}')"
   ]
  },
  {
   "cell_type": "code",
   "execution_count": 147,
   "id": "6d7db106",
   "metadata": {
    "ExecuteTime": {
     "end_time": "2022-12-27T11:23:56.334252Z",
     "start_time": "2022-12-27T11:23:56.328966Z"
    }
   },
   "outputs": [
    {
     "data": {
      "text/plain": [
       "list"
      ]
     },
     "execution_count": 147,
     "metadata": {},
     "output_type": "execute_result"
    }
   ],
   "source": [
    "type(r.json())"
   ]
  },
  {
   "cell_type": "code",
   "execution_count": 148,
   "id": "23566582",
   "metadata": {
    "ExecuteTime": {
     "end_time": "2022-12-27T11:24:04.476023Z",
     "start_time": "2022-12-27T11:24:04.458962Z"
    }
   },
   "outputs": [
    {
     "data": {
      "text/html": [
       "<div>\n",
       "<style scoped>\n",
       "    .dataframe tbody tr th:only-of-type {\n",
       "        vertical-align: middle;\n",
       "    }\n",
       "\n",
       "    .dataframe tbody tr th {\n",
       "        vertical-align: top;\n",
       "    }\n",
       "\n",
       "    .dataframe thead th {\n",
       "        text-align: right;\n",
       "    }\n",
       "</style>\n",
       "<table border=\"1\" class=\"dataframe\">\n",
       "  <thead>\n",
       "    <tr style=\"text-align: right;\">\n",
       "      <th></th>\n",
       "      <th>id</th>\n",
       "      <th>gender</th>\n",
       "      <th>age</th>\n",
       "      <th>region_code</th>\n",
       "      <th>policy_sales_channel</th>\n",
       "      <th>previously_insured</th>\n",
       "      <th>annual_premium</th>\n",
       "      <th>vintage</th>\n",
       "      <th>driving_license</th>\n",
       "      <th>vehicle_age</th>\n",
       "      <th>vehicle_damage</th>\n",
       "      <th>response</th>\n",
       "      <th>prediction</th>\n",
       "    </tr>\n",
       "  </thead>\n",
       "  <tbody>\n",
       "    <tr>\n",
       "      <th>0</th>\n",
       "      <td>250747</td>\n",
       "      <td>0.138360</td>\n",
       "      <td>0.800000</td>\n",
       "      <td>0.122853</td>\n",
       "      <td>0.209179</td>\n",
       "      <td>1</td>\n",
       "      <td>0.624502</td>\n",
       "      <td>0.221453</td>\n",
       "      <td>1</td>\n",
       "      <td>between_1_2_year</td>\n",
       "      <td>0</td>\n",
       "      <td>0</td>\n",
       "      <td>0.000640</td>\n",
       "    </tr>\n",
       "    <tr>\n",
       "      <th>1</th>\n",
       "      <td>348736</td>\n",
       "      <td>0.103867</td>\n",
       "      <td>0.061538</td>\n",
       "      <td>0.072404</td>\n",
       "      <td>0.353770</td>\n",
       "      <td>1</td>\n",
       "      <td>-1.614909</td>\n",
       "      <td>0.602076</td>\n",
       "      <td>1</td>\n",
       "      <td>below_1_year</td>\n",
       "      <td>0</td>\n",
       "      <td>0</td>\n",
       "      <td>0.000499</td>\n",
       "    </tr>\n",
       "    <tr>\n",
       "      <th>2</th>\n",
       "      <td>361707</td>\n",
       "      <td>0.103867</td>\n",
       "      <td>0.030769</td>\n",
       "      <td>0.072404</td>\n",
       "      <td>0.353770</td>\n",
       "      <td>1</td>\n",
       "      <td>-1.614909</td>\n",
       "      <td>0.314879</td>\n",
       "      <td>1</td>\n",
       "      <td>below_1_year</td>\n",
       "      <td>0</td>\n",
       "      <td>0</td>\n",
       "      <td>0.000500</td>\n",
       "    </tr>\n",
       "    <tr>\n",
       "      <th>3</th>\n",
       "      <td>343151</td>\n",
       "      <td>0.103867</td>\n",
       "      <td>0.584615</td>\n",
       "      <td>0.186546</td>\n",
       "      <td>0.026174</td>\n",
       "      <td>0</td>\n",
       "      <td>-0.030635</td>\n",
       "      <td>0.034602</td>\n",
       "      <td>1</td>\n",
       "      <td>over_2_years</td>\n",
       "      <td>0</td>\n",
       "      <td>0</td>\n",
       "      <td>0.052524</td>\n",
       "    </tr>\n",
       "    <tr>\n",
       "      <th>4</th>\n",
       "      <td>48227</td>\n",
       "      <td>0.103867</td>\n",
       "      <td>0.353846</td>\n",
       "      <td>0.094319</td>\n",
       "      <td>0.003792</td>\n",
       "      <td>0</td>\n",
       "      <td>-0.068968</td>\n",
       "      <td>0.432526</td>\n",
       "      <td>1</td>\n",
       "      <td>between_1_2_year</td>\n",
       "      <td>0</td>\n",
       "      <td>0</td>\n",
       "      <td>0.037128</td>\n",
       "    </tr>\n",
       "    <tr>\n",
       "      <th>5</th>\n",
       "      <td>372643</td>\n",
       "      <td>0.138360</td>\n",
       "      <td>0.030769</td>\n",
       "      <td>0.114565</td>\n",
       "      <td>0.353770</td>\n",
       "      <td>1</td>\n",
       "      <td>-1.614909</td>\n",
       "      <td>0.605536</td>\n",
       "      <td>1</td>\n",
       "      <td>below_1_year</td>\n",
       "      <td>0</td>\n",
       "      <td>0</td>\n",
       "      <td>0.000608</td>\n",
       "    </tr>\n",
       "    <tr>\n",
       "      <th>6</th>\n",
       "      <td>356604</td>\n",
       "      <td>0.138360</td>\n",
       "      <td>0.246154</td>\n",
       "      <td>0.079448</td>\n",
       "      <td>0.209179</td>\n",
       "      <td>0</td>\n",
       "      <td>0.224516</td>\n",
       "      <td>0.996540</td>\n",
       "      <td>1</td>\n",
       "      <td>between_1_2_year</td>\n",
       "      <td>0</td>\n",
       "      <td>1</td>\n",
       "      <td>0.030274</td>\n",
       "    </tr>\n",
       "    <tr>\n",
       "      <th>7</th>\n",
       "      <td>238098</td>\n",
       "      <td>0.138360</td>\n",
       "      <td>0.723077</td>\n",
       "      <td>0.114565</td>\n",
       "      <td>0.209179</td>\n",
       "      <td>0</td>\n",
       "      <td>-1.614909</td>\n",
       "      <td>0.626298</td>\n",
       "      <td>1</td>\n",
       "      <td>between_1_2_year</td>\n",
       "      <td>0</td>\n",
       "      <td>0</td>\n",
       "      <td>0.032038</td>\n",
       "    </tr>\n",
       "    <tr>\n",
       "      <th>8</th>\n",
       "      <td>142366</td>\n",
       "      <td>0.103867</td>\n",
       "      <td>0.615385</td>\n",
       "      <td>0.186546</td>\n",
       "      <td>0.209179</td>\n",
       "      <td>0</td>\n",
       "      <td>1.555489</td>\n",
       "      <td>0.716263</td>\n",
       "      <td>1</td>\n",
       "      <td>between_1_2_year</td>\n",
       "      <td>0</td>\n",
       "      <td>0</td>\n",
       "      <td>0.046346</td>\n",
       "    </tr>\n",
       "    <tr>\n",
       "      <th>9</th>\n",
       "      <td>183314</td>\n",
       "      <td>0.103867</td>\n",
       "      <td>0.153846</td>\n",
       "      <td>0.079448</td>\n",
       "      <td>0.353770</td>\n",
       "      <td>1</td>\n",
       "      <td>0.110557</td>\n",
       "      <td>0.885813</td>\n",
       "      <td>1</td>\n",
       "      <td>below_1_year</td>\n",
       "      <td>0</td>\n",
       "      <td>0</td>\n",
       "      <td>0.000519</td>\n",
       "    </tr>\n",
       "  </tbody>\n",
       "</table>\n",
       "</div>"
      ],
      "text/plain": [
       "       id    gender       age  region_code  policy_sales_channel  \\\n",
       "0  250747  0.138360  0.800000     0.122853              0.209179   \n",
       "1  348736  0.103867  0.061538     0.072404              0.353770   \n",
       "2  361707  0.103867  0.030769     0.072404              0.353770   \n",
       "3  343151  0.103867  0.584615     0.186546              0.026174   \n",
       "4   48227  0.103867  0.353846     0.094319              0.003792   \n",
       "5  372643  0.138360  0.030769     0.114565              0.353770   \n",
       "6  356604  0.138360  0.246154     0.079448              0.209179   \n",
       "7  238098  0.138360  0.723077     0.114565              0.209179   \n",
       "8  142366  0.103867  0.615385     0.186546              0.209179   \n",
       "9  183314  0.103867  0.153846     0.079448              0.353770   \n",
       "\n",
       "   previously_insured  annual_premium   vintage  driving_license  \\\n",
       "0                   1        0.624502  0.221453                1   \n",
       "1                   1       -1.614909  0.602076                1   \n",
       "2                   1       -1.614909  0.314879                1   \n",
       "3                   0       -0.030635  0.034602                1   \n",
       "4                   0       -0.068968  0.432526                1   \n",
       "5                   1       -1.614909  0.605536                1   \n",
       "6                   0        0.224516  0.996540                1   \n",
       "7                   0       -1.614909  0.626298                1   \n",
       "8                   0        1.555489  0.716263                1   \n",
       "9                   1        0.110557  0.885813                1   \n",
       "\n",
       "        vehicle_age  vehicle_damage  response  prediction  \n",
       "0  between_1_2_year               0         0    0.000640  \n",
       "1      below_1_year               0         0    0.000499  \n",
       "2      below_1_year               0         0    0.000500  \n",
       "3      over_2_years               0         0    0.052524  \n",
       "4  between_1_2_year               0         0    0.037128  \n",
       "5      below_1_year               0         0    0.000608  \n",
       "6  between_1_2_year               0         1    0.030274  \n",
       "7  between_1_2_year               0         0    0.032038  \n",
       "8  between_1_2_year               0         0    0.046346  \n",
       "9      below_1_year               0         0    0.000519  "
      ]
     },
     "execution_count": 148,
     "metadata": {},
     "output_type": "execute_result"
    }
   ],
   "source": [
    "a = pd.DataFrame.from_dict(r.json())\n",
    "a"
   ]
  },
  {
   "cell_type": "code",
   "execution_count": null,
   "id": "5c065322",
   "metadata": {},
   "outputs": [],
   "source": []
  }
 ],
 "metadata": {
  "kernelspec": {
   "display_name": "Python 3 (ipykernel)",
   "language": "python",
   "name": "python3"
  },
  "language_info": {
   "codemirror_mode": {
    "name": "ipython",
    "version": 3
   },
   "file_extension": ".py",
   "mimetype": "text/x-python",
   "name": "python",
   "nbconvert_exporter": "python",
   "pygments_lexer": "ipython3",
   "version": "3.8.10"
  }
 },
 "nbformat": 4,
 "nbformat_minor": 5
}
